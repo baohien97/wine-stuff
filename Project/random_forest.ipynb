{
 "cells": [
  {
   "cell_type": "code",
   "execution_count": 64,
   "metadata": {},
   "outputs": [],
   "source": [
    "%matplotlib inline\n",
    "import numpy as np\n",
    "import matplotlib.pyplot as plt\n",
    "import csv\n",
    "from IPython.core.display import display, HTML"
   ]
  },
  {
   "cell_type": "code",
   "execution_count": 37,
   "metadata": {
    "collapsed": true
   },
   "outputs": [],
   "source": [
    "def preprocess(file_name):\n",
    "    results = []\n",
    "    with open(file_name) as csvfile:\n",
    "        wine_reader = csv.reader(csvfile, dialect=\"excel\", delimiter=';')\n",
    "        for row in wine_reader:\n",
    "            results.append(row)\n",
    "    name_features = results[0]\n",
    "    #print(name_features)\n",
    "    parsed_results = []\n",
    "    for row in results[1:]:\n",
    "        new_row = []\n",
    "        for num in row:\n",
    "            new_row.append(float(num))\n",
    "        parsed_results.append(new_row)\n",
    "    parsed_results = np.array(parsed_results)\n",
    "    n_instances = parsed_results.shape[0]\n",
    "    n_features = parsed_results.shape[1] - 1\n",
    "    labels = parsed_results[:, n_features]\n",
    "    instances = parsed_results[:, : n_features]\n",
    "    return instances, labels\n",
    "white_instances, white_labels = preprocess('winequality-white.csv')\n",
    "red_instances, red_labels = preprocess('winequality-red.csv')\n",
    "white_two_classes = np.array([0 if num <6 else 1 for num in white_labels])\n",
    "red_two_classes = np.array([0 if num <6 else 1 for num in red_labels])"
   ]
  },
  {
   "cell_type": "code",
   "execution_count": 8,
   "metadata": {
    "collapsed": true
   },
   "outputs": [],
   "source": [
    "def three_classes(wine_labels):\n",
    "    transformed = []\n",
    "    for score in wine_labels:\n",
    "        if score <= 4:\n",
    "            transformed.append(\"bad\")\n",
    "        elif score <= 6:\n",
    "            transformed.append(\"medium\")\n",
    "        else:\n",
    "            transformed.append(\"good\")\n",
    "    return np.array(transformed)\n",
    "def four_classes(wine_labels):\n",
    "    transformed = []\n",
    "    for score in wine_labels:\n",
    "        if score <= 4:\n",
    "            transformed.append(\"bad\")\n",
    "        elif score == 5:\n",
    "            transformed.append(\"medium low\")\n",
    "        elif score == 6:\n",
    "            transformed.append(\"medium high\")\n",
    "        else:\n",
    "            transformed.append(\"good\")\n",
    "    return np.array(transformed)"
   ]
  },
  {
   "cell_type": "code",
   "execution_count": 9,
   "metadata": {},
   "outputs": [],
   "source": [
    "white_three_classes = three_classes(white_labels)\n",
    "red_three_classes = three_classes(red_labels)\n",
    "white_four_classes = four_classes(white_labels)\n",
    "red_four_classes = four_classes(red_labels)"
   ]
  },
  {
   "cell_type": "code",
   "execution_count": 174,
   "metadata": {
    "collapsed": true
   },
   "outputs": [],
   "source": [
    "from sklearn.ensemble import RandomForestClassifier\n",
    "from sklearn.tree import DecisionTreeClassifier\n",
    "from sklearn.metrics import classification_report, accuracy_score, confusion_matrix # for reporting\n",
    "from sklearn.metrics import roc_curve, auc\n",
    "from sklearn.model_selection import train_test_split\n",
    "from sklearn.model_selection import cross_val_score, GridSearchCV #BONUS"
   ]
  },
  {
   "cell_type": "code",
   "execution_count": 29,
   "metadata": {
    "collapsed": true
   },
   "outputs": [],
   "source": [
    "random_forest = RandomForestClassifier()\n",
    "decision_tree = DecisionTreeClassifier()"
   ]
  },
  {
   "cell_type": "code",
   "execution_count": 46,
   "metadata": {
    "collapsed": true
   },
   "outputs": [],
   "source": [
    "def tune(params, clf, instances, labels):\n",
    "    x_train, x_test, y_train, y_test = train_test_split(instances, labels)\n",
    "    gs = GridSearchCV(clf, param_grid=params, cv=5)\n",
    "    gs.fit(x_train, y_train)\n",
    "    return gs.best_params_"
   ]
  },
  {
   "cell_type": "code",
   "execution_count": 176,
   "metadata": {},
   "outputs": [
    {
     "data": {
      "text/html": [
       "<h3>Decision Tree's results of tuning</h3>"
      ],
      "text/plain": [
       "<IPython.core.display.HTML object>"
      ]
     },
     "metadata": {},
     "output_type": "display_data"
    },
    {
     "name": "stdout",
     "output_type": "stream",
     "text": [
      "best for white (2 classes) {'criterion': 'entropy', 'max_features': 'log2'}\n",
      "best for white (3 classes) {'criterion': 'entropy', 'max_features': None}\n",
      "best for white (4 classes) {'criterion': 'gini', 'max_features': None}\n",
      "\n",
      "\n",
      "best for red (2 classes) {'criterion': 'entropy', 'max_features': 'sqrt'}\n",
      "best for red (3 classes) {'criterion': 'gini', 'max_features': 'auto'}\n",
      "best for red (4 classes) {'criterion': 'gini', 'max_features': None}\n"
     ]
    }
   ],
   "source": [
    "params = {'max_features': [None, 'auto', 'sqrt', 'log2'], 'criterion': ['gini', 'entropy']}\n",
    "display(HTML('<h3>Decision Tree\\'s results of tuning</h3>'))\n",
    "print(\"best for white (2 classes)\", tune(params, DecisionTreeClassifier(), white_instances, white_two_classes))\n",
    "print(\"best for white (3 classes)\", tune(params, DecisionTreeClassifier(), white_instances, white_three_classes))\n",
    "print(\"best for white (4 classes)\", tune(params, DecisionTreeClassifier(), white_instances, white_four_classes))\n",
    "print(\"\\n\")\n",
    "print(\"best for red (2 classes)\", tune(params, DecisionTreeClassifier(), red_instances, red_two_classes))\n",
    "print(\"best for red (3 classes)\", tune(params, DecisionTreeClassifier(), red_instances, red_three_classes))\n",
    "print(\"best for red (4 classes)\", tune(params, DecisionTreeClassifier(), red_instances, red_four_classes))"
   ]
  },
  {
   "cell_type": "code",
   "execution_count": 49,
   "metadata": {},
   "outputs": [],
   "source": [
    "rfc_params = {'max_features': [None, 'auto', 'sqrt', 'log2'], 'criterion': ['entropy', 'gini']}\n",
    "print(\"tune(rfc_params, RandomForestClassifier(), white_instances, white_two_classes)"
   ]
  },
  {
   "cell_type": "code",
   "execution_count": 175,
   "metadata": {},
   "outputs": [
    {
     "data": {
      "text/html": [
       "<h3>Random Forest's results of tuning</h3>"
      ],
      "text/plain": [
       "<IPython.core.display.HTML object>"
      ]
     },
     "metadata": {},
     "output_type": "display_data"
    },
    {
     "name": "stdout",
     "output_type": "stream",
     "text": [
      "best for white (2 classes) {'criterion': 'entropy', 'max_features': 'auto'}\n",
      "best for white (3 classes) {'criterion': 'entropy', 'max_features': 'auto'}\n",
      "best for white (4 classes) {'criterion': 'gini', 'max_features': 'sqrt'}\n",
      "\n",
      "\n",
      "best for red (2 classes) {'criterion': 'entropy', 'max_features': 'auto'}\n",
      "best for red (3 classes) {'criterion': 'gini', 'max_features': 'sqrt'}\n",
      "best for red (4 classes) {'criterion': 'gini', 'max_features': 'log2'}\n"
     ]
    }
   ],
   "source": [
    "display(HTML('<h3>Random Forest\\'s results of tuning</h3>'))\n",
    "print(\"best for white (2 classes)\", tune(params, RandomForestClassifier(), white_instances, white_two_classes))\n",
    "print(\"best for white (3 classes)\", tune(params, RandomForestClassifier(), white_instances, white_three_classes))\n",
    "print(\"best for white (4 classes)\", tune(params, RandomForestClassifier(), white_instances, white_four_classes))\n",
    "print(\"\\n\")\n",
    "print(\"best for red (2 classes)\", tune(params, RandomForestClassifier(), red_instances, red_two_classes))\n",
    "print(\"best for red (3 classes)\", tune(params, RandomForestClassifier(), red_instances, red_three_classes))\n",
    "print(\"best for red (4 classes)\", tune(params, RandomForestClassifier(), red_instances, red_four_classes))"
   ]
  },
  {
   "cell_type": "code",
   "execution_count": 100,
   "metadata": {},
   "outputs": [],
   "source": [
    "def produce_report(clf_name, clf, instances, labels):\n",
    "    x_train, x_test, y_train, y_test = train_test_split(instances, labels)\n",
    "    clf = clf\n",
    "    preds = clf.fit(x_train, y_train).predict(x_test)\n",
    "    display(HTML('<h4>' + clf_name + \"'s accuracy: </h4>\"))\n",
    "    print(accuracy_score(y_test, preds))\n",
    "    display(HTML('<strong>Report</strong>:\\n'))\n",
    "    print(classification_report(y_test, preds), \"\\n\")\n",
    "    return y_test, preds\n"
   ]
  },
  {
   "cell_type": "markdown",
   "metadata": {},
   "source": [
    "## Decision Tree Results"
   ]
  },
  {
   "cell_type": "code",
   "execution_count": 189,
   "metadata": {},
   "outputs": [
    {
     "data": {
      "text/html": [
       "<h3>For White Wine: </h3>"
      ],
      "text/plain": [
       "<IPython.core.display.HTML object>"
      ]
     },
     "metadata": {},
     "output_type": "display_data"
    },
    {
     "data": {
      "text/html": [
       "<h4>DT for white wine (2 classes)'s accuracy: </h4>"
      ],
      "text/plain": [
       "<IPython.core.display.HTML object>"
      ]
     },
     "metadata": {},
     "output_type": "display_data"
    },
    {
     "name": "stdout",
     "output_type": "stream",
     "text": [
      "0.78612244898\n"
     ]
    },
    {
     "data": {
      "text/html": [
       "<strong>Report</strong>:\n"
      ],
      "text/plain": [
       "<IPython.core.display.HTML object>"
      ]
     },
     "metadata": {},
     "output_type": "display_data"
    },
    {
     "name": "stdout",
     "output_type": "stream",
     "text": [
      "             precision    recall  f1-score   support\n",
      "\n",
      "          0       0.64      0.69      0.66       371\n",
      "          1       0.86      0.83      0.84       854\n",
      "\n",
      "avg / total       0.79      0.79      0.79      1225\n",
      " \n",
      "\n"
     ]
    },
    {
     "data": {
      "text/html": [
       "<h4>DT for white wine (3 classes)'s accuracy: </h4>"
      ],
      "text/plain": [
       "<IPython.core.display.HTML object>"
      ]
     },
     "metadata": {},
     "output_type": "display_data"
    },
    {
     "name": "stdout",
     "output_type": "stream",
     "text": [
      "0.778775510204\n"
     ]
    },
    {
     "data": {
      "text/html": [
       "<strong>Report</strong>:\n"
      ],
      "text/plain": [
       "<IPython.core.display.HTML object>"
      ]
     },
     "metadata": {},
     "output_type": "display_data"
    },
    {
     "name": "stdout",
     "output_type": "stream",
     "text": [
      "             precision    recall  f1-score   support\n",
      "\n",
      "        bad       0.31      0.22      0.25        51\n",
      "       good       0.63      0.62      0.63       290\n",
      "     medium       0.84      0.86      0.85       884\n",
      "\n",
      "avg / total       0.77      0.78      0.77      1225\n",
      " \n",
      "\n"
     ]
    },
    {
     "data": {
      "text/html": [
       "<h4>DT for white wine (4 classes)'s accuracy: </h4>"
      ],
      "text/plain": [
       "<IPython.core.display.HTML object>"
      ]
     },
     "metadata": {},
     "output_type": "display_data"
    },
    {
     "name": "stdout",
     "output_type": "stream",
     "text": [
      "0.608979591837\n"
     ]
    },
    {
     "data": {
      "text/html": [
       "<strong>Report</strong>:\n"
      ],
      "text/plain": [
       "<IPython.core.display.HTML object>"
      ]
     },
     "metadata": {},
     "output_type": "display_data"
    },
    {
     "name": "stdout",
     "output_type": "stream",
     "text": [
      "             precision    recall  f1-score   support\n",
      "\n",
      "        bad       0.32      0.19      0.24        54\n",
      "       good       0.63      0.64      0.63       275\n",
      "medium high       0.62      0.64      0.63       527\n",
      " medium low       0.60      0.61      0.61       369\n",
      "\n",
      "avg / total       0.60      0.61      0.61      1225\n",
      " \n",
      "\n"
     ]
    },
    {
     "data": {
      "text/html": [
       "<h3>For Red Wine: </h3>"
      ],
      "text/plain": [
       "<IPython.core.display.HTML object>"
      ]
     },
     "metadata": {},
     "output_type": "display_data"
    },
    {
     "data": {
      "text/html": [
       "<h4>DT for red wine (2 classes)'s accuracy: </h4>"
      ],
      "text/plain": [
       "<IPython.core.display.HTML object>"
      ]
     },
     "metadata": {},
     "output_type": "display_data"
    },
    {
     "name": "stdout",
     "output_type": "stream",
     "text": [
      "0.7625\n"
     ]
    },
    {
     "data": {
      "text/html": [
       "<strong>Report</strong>:\n"
      ],
      "text/plain": [
       "<IPython.core.display.HTML object>"
      ]
     },
     "metadata": {},
     "output_type": "display_data"
    },
    {
     "name": "stdout",
     "output_type": "stream",
     "text": [
      "             precision    recall  f1-score   support\n",
      "\n",
      "          0       0.74      0.72      0.73       177\n",
      "          1       0.78      0.79      0.79       223\n",
      "\n",
      "avg / total       0.76      0.76      0.76       400\n",
      " \n",
      "\n"
     ]
    },
    {
     "data": {
      "text/html": [
       "<h4>DT for red wine (3 classes)'s accuracy: </h4>"
      ],
      "text/plain": [
       "<IPython.core.display.HTML object>"
      ]
     },
     "metadata": {},
     "output_type": "display_data"
    },
    {
     "name": "stdout",
     "output_type": "stream",
     "text": [
      "0.795\n"
     ]
    },
    {
     "data": {
      "text/html": [
       "<strong>Report</strong>:\n"
      ],
      "text/plain": [
       "<IPython.core.display.HTML object>"
      ]
     },
     "metadata": {},
     "output_type": "display_data"
    },
    {
     "name": "stdout",
     "output_type": "stream",
     "text": [
      "             precision    recall  f1-score   support\n",
      "\n",
      "        bad       0.12      0.15      0.14        13\n",
      "       good       0.47      0.51      0.49        55\n",
      "     medium       0.89      0.87      0.88       332\n",
      "\n",
      "avg / total       0.81      0.80      0.80       400\n",
      " \n",
      "\n"
     ]
    },
    {
     "data": {
      "text/html": [
       "<h4>DT for red wine (4 classes)'s accuracy: </h4>"
      ],
      "text/plain": [
       "<IPython.core.display.HTML object>"
      ]
     },
     "metadata": {},
     "output_type": "display_data"
    },
    {
     "name": "stdout",
     "output_type": "stream",
     "text": [
      "0.605\n"
     ]
    },
    {
     "data": {
      "text/html": [
       "<strong>Report</strong>:\n"
      ],
      "text/plain": [
       "<IPython.core.display.HTML object>"
      ]
     },
     "metadata": {},
     "output_type": "display_data"
    },
    {
     "name": "stdout",
     "output_type": "stream",
     "text": [
      "             precision    recall  f1-score   support\n",
      "\n",
      "        bad       0.14      0.17      0.15        12\n",
      "       good       0.42      0.46      0.44        54\n",
      "medium high       0.60      0.61      0.61       161\n",
      " medium low       0.71      0.68      0.69       173\n",
      "\n",
      "avg / total       0.61      0.60      0.61       400\n",
      " \n",
      "\n"
     ]
    },
    {
     "data": {
      "text/plain": [
       "(array(['medium low', 'medium low', 'medium high', 'medium low',\n",
       "        'medium high', 'medium low', 'medium low', 'good', 'medium low',\n",
       "        'medium high', 'medium high', 'medium high', 'medium low',\n",
       "        'medium low', 'medium low', 'medium high', 'medium high',\n",
       "        'medium high', 'medium high', 'medium high', 'medium low',\n",
       "        'medium low', 'good', 'medium high', 'good', 'medium high',\n",
       "        'medium low', 'medium high', 'medium high', 'medium high',\n",
       "        'medium low', 'medium low', 'medium low', 'good', 'medium high',\n",
       "        'medium high', 'medium high', 'medium low', 'medium high',\n",
       "        'medium low', 'bad', 'medium low', 'medium high', 'medium low',\n",
       "        'medium low', 'medium high', 'medium low', 'medium low',\n",
       "        'medium high', 'good', 'good', 'medium high', 'medium low',\n",
       "        'medium high', 'medium low', 'medium high', 'medium low',\n",
       "        'medium high', 'medium low', 'medium high', 'medium high',\n",
       "        'medium low', 'medium high', 'medium high', 'good', 'good',\n",
       "        'medium high', 'medium low', 'good', 'medium high', 'medium high',\n",
       "        'good', 'good', 'medium low', 'medium low', 'good', 'good',\n",
       "        'medium high', 'medium low', 'good', 'medium low', 'medium high',\n",
       "        'medium high', 'medium high', 'medium high', 'medium high',\n",
       "        'medium high', 'medium high', 'medium low', 'good', 'medium low',\n",
       "        'medium high', 'medium low', 'medium low', 'medium high',\n",
       "        'medium high', 'medium high', 'medium low', 'medium low',\n",
       "        'medium high', 'medium low', 'medium high', 'good', 'medium low',\n",
       "        'medium high', 'medium high', 'good', 'medium high', 'medium low',\n",
       "        'medium low', 'medium low', 'bad', 'medium low', 'medium high',\n",
       "        'medium low', 'medium high', 'medium low', 'medium low',\n",
       "        'medium low', 'bad', 'medium high', 'good', 'medium high',\n",
       "        'medium high', 'medium high', 'good', 'medium low', 'good',\n",
       "        'medium high', 'medium high', 'medium low', 'medium low',\n",
       "        'medium low', 'medium high', 'medium high', 'medium high',\n",
       "        'medium low', 'medium low', 'medium high', 'medium high',\n",
       "        'medium low', 'bad', 'good', 'medium high', 'medium low',\n",
       "        'medium high', 'good', 'medium low', 'medium low', 'medium high',\n",
       "        'good', 'medium low', 'medium low', 'medium high', 'medium high',\n",
       "        'medium high', 'medium low', 'medium low', 'medium low',\n",
       "        'medium low', 'medium high', 'medium high', 'medium high',\n",
       "        'medium high', 'medium high', 'good', 'medium low', 'medium high',\n",
       "        'medium high', 'medium low', 'bad', 'medium low', 'medium low',\n",
       "        'good', 'medium low', 'good', 'medium high', 'medium low',\n",
       "        'medium low', 'good', 'medium low', 'medium low', 'medium high',\n",
       "        'medium low', 'medium high', 'medium high', 'medium low',\n",
       "        'medium low', 'medium low', 'medium low', 'medium high',\n",
       "        'medium high', 'good', 'medium high', 'good', 'good', 'medium low',\n",
       "        'medium low', 'medium low', 'medium low', 'medium high',\n",
       "        'medium high', 'medium low', 'good', 'medium high', 'medium low',\n",
       "        'medium high', 'medium high', 'good', 'medium high', 'medium high',\n",
       "        'medium low', 'medium low', 'medium low', 'medium high',\n",
       "        'medium high', 'medium high', 'medium low', 'medium high',\n",
       "        'medium low', 'medium low', 'medium low', 'medium low',\n",
       "        'medium low', 'medium high', 'medium low', 'medium low', 'good',\n",
       "        'medium low', 'medium low', 'medium high', 'medium low',\n",
       "        'medium low', 'medium high', 'bad', 'medium low', 'medium low',\n",
       "        'medium low', 'medium high', 'good', 'medium high', 'medium high',\n",
       "        'medium high', 'medium low', 'medium high', 'medium high',\n",
       "        'medium high', 'medium low', 'medium high', 'medium high',\n",
       "        'medium high', 'medium low', 'medium low', 'medium high',\n",
       "        'medium high', 'bad', 'good', 'medium low', 'good', 'medium high',\n",
       "        'medium low', 'medium high', 'medium high', 'medium high',\n",
       "        'medium low', 'medium low', 'medium low', 'medium low',\n",
       "        'medium low', 'medium low', 'medium high', 'medium high',\n",
       "        'medium low', 'medium high', 'medium high', 'medium high',\n",
       "        'medium high', 'medium low', 'medium high', 'good', 'medium low',\n",
       "        'medium low', 'medium low', 'medium low', 'medium low', 'bad',\n",
       "        'medium high', 'medium high', 'good', 'medium low', 'medium high',\n",
       "        'medium high', 'medium low', 'medium high', 'medium high', 'bad',\n",
       "        'medium high', 'medium high', 'medium low', 'medium low',\n",
       "        'medium high', 'medium low', 'medium high', 'medium high',\n",
       "        'medium high', 'medium low', 'medium high', 'medium high', 'good',\n",
       "        'medium low', 'medium low', 'medium low', 'good', 'medium low',\n",
       "        'medium high', 'medium high', 'medium low', 'medium high',\n",
       "        'medium high', 'medium high', 'medium low', 'medium high',\n",
       "        'medium low', 'medium low', 'good', 'medium low', 'good',\n",
       "        'medium low', 'medium low', 'medium low', 'medium low',\n",
       "        'medium low', 'medium low', 'medium low', 'medium low', 'bad',\n",
       "        'medium high', 'medium high', 'good', 'good', 'medium high', 'good',\n",
       "        'good', 'medium high', 'medium low', 'medium high', 'medium high',\n",
       "        'good', 'medium low', 'medium low', 'medium high', 'medium low',\n",
       "        'medium low', 'medium high', 'medium low', 'medium low',\n",
       "        'medium high', 'good', 'medium high', 'medium high', 'good',\n",
       "        'medium low', 'medium low', 'medium low', 'medium low', 'good',\n",
       "        'medium low', 'medium low', 'medium low', 'medium high',\n",
       "        'medium high', 'medium high', 'medium low', 'medium low',\n",
       "        'medium low', 'good', 'medium low', 'medium low', 'medium high',\n",
       "        'medium low', 'medium high', 'medium low', 'medium high',\n",
       "        'medium high', 'medium low', 'bad', 'medium low', 'medium low',\n",
       "        'medium low', 'medium low', 'medium low', 'good', 'medium high',\n",
       "        'medium low', 'good', 'medium low', 'medium high', 'bad',\n",
       "        'medium high', 'good'],\n",
       "       dtype='<U11'),\n",
       " array(['medium low', 'medium low', 'good', 'medium high', 'medium high',\n",
       "        'medium low', 'bad', 'medium high', 'medium low', 'medium high',\n",
       "        'medium high', 'medium high', 'medium low', 'medium low',\n",
       "        'medium low', 'medium high', 'medium low', 'medium high',\n",
       "        'medium low', 'good', 'medium low', 'medium high', 'good',\n",
       "        'medium high', 'medium high', 'medium low', 'medium low', 'good',\n",
       "        'medium low', 'medium low', 'medium low', 'medium low',\n",
       "        'medium low', 'medium high', 'medium high', 'medium high', 'good',\n",
       "        'medium low', 'good', 'medium low', 'good', 'medium high', 'good',\n",
       "        'medium low', 'bad', 'medium low', 'good', 'good', 'medium low',\n",
       "        'good', 'medium high', 'good', 'medium low', 'medium high',\n",
       "        'medium low', 'medium high', 'medium low', 'medium high', 'good',\n",
       "        'bad', 'medium high', 'medium low', 'medium high', 'medium low',\n",
       "        'medium high', 'medium high', 'medium high', 'medium low',\n",
       "        'medium high', 'medium high', 'medium high', 'good', 'good',\n",
       "        'medium low', 'medium low', 'medium high', 'good', 'good',\n",
       "        'medium high', 'good', 'medium high', 'medium high', 'medium high',\n",
       "        'medium low', 'medium high', 'medium high', 'medium high',\n",
       "        'medium high', 'medium high', 'medium high', 'medium low',\n",
       "        'medium low', 'medium low', 'medium high', 'medium high',\n",
       "        'medium high', 'medium high', 'medium low', 'good', 'good',\n",
       "        'medium high', 'medium low', 'medium high', 'good', 'medium low',\n",
       "        'medium high', 'medium low', 'medium low', 'medium low',\n",
       "        'medium low', 'medium high', 'medium high', 'medium low',\n",
       "        'medium high', 'medium low', 'medium low', 'bad', 'medium high',\n",
       "        'medium high', 'medium high', 'medium low', 'good', 'bad',\n",
       "        'medium high', 'medium high', 'medium low', 'medium low', 'good',\n",
       "        'good', 'medium low', 'medium high', 'medium low', 'bad',\n",
       "        'medium low', 'medium high', 'good', 'medium low', 'medium low',\n",
       "        'medium high', 'medium high', 'medium high', 'bad', 'good',\n",
       "        'medium high', 'medium high', 'medium high', 'good', 'medium low',\n",
       "        'medium low', 'good', 'medium high', 'medium low', 'medium high',\n",
       "        'medium low', 'medium high', 'medium high', 'medium low',\n",
       "        'medium low', 'good', 'medium low', 'good', 'medium high',\n",
       "        'medium high', 'medium high', 'good', 'good', 'medium low',\n",
       "        'medium high', 'medium high', 'bad', 'medium low', 'medium high',\n",
       "        'medium low', 'medium high', 'medium low', 'good', 'medium high',\n",
       "        'medium low', 'medium high', 'good', 'medium low', 'medium low',\n",
       "        'medium low', 'medium low', 'medium low', 'medium low',\n",
       "        'medium low', 'medium low', 'medium low', 'medium low', 'good',\n",
       "        'medium high', 'good', 'medium high', 'medium high', 'medium high',\n",
       "        'medium low', 'medium low', 'medium high', 'medium low',\n",
       "        'medium high', 'good', 'medium low', 'good', 'medium high',\n",
       "        'medium low', 'medium high', 'medium high', 'good', 'medium high',\n",
       "        'medium low', 'medium low', 'medium high', 'medium low', 'good',\n",
       "        'medium low', 'medium low', 'medium low', 'medium low',\n",
       "        'medium low', 'medium low', 'medium high', 'medium low',\n",
       "        'medium low', 'medium high', 'medium low', 'medium low',\n",
       "        'medium high', 'medium low', 'medium low', 'medium high',\n",
       "        'medium low', 'medium low', 'medium high', 'medium low',\n",
       "        'medium low', 'medium low', 'medium low', 'medium high', 'good',\n",
       "        'medium high', 'medium high', 'medium high', 'good', 'medium high',\n",
       "        'medium high', 'medium high', 'medium high', 'medium high',\n",
       "        'medium low', 'medium low', 'medium low', 'medium low', 'good',\n",
       "        'medium high', 'good', 'medium high', 'medium low', 'medium low',\n",
       "        'medium high', 'medium low', 'medium high', 'bad', 'medium high',\n",
       "        'medium low', 'medium high', 'medium low', 'medium high',\n",
       "        'medium low', 'medium low', 'medium high', 'medium high',\n",
       "        'medium high', 'medium high', 'medium high', 'medium high',\n",
       "        'medium high', 'medium low', 'medium high', 'medium low', 'good',\n",
       "        'medium high', 'medium low', 'medium low', 'medium low', 'bad',\n",
       "        'medium high', 'medium high', 'good', 'medium low', 'medium low',\n",
       "        'medium high', 'medium low', 'medium high', 'medium high',\n",
       "        'medium low', 'medium low', 'medium high', 'medium low',\n",
       "        'medium low', 'medium high', 'medium low', 'medium low',\n",
       "        'medium high', 'medium high', 'medium high', 'medium high',\n",
       "        'medium high', 'medium high', 'good', 'medium high', 'medium high',\n",
       "        'medium low', 'medium low', 'medium high', 'medium high', 'bad',\n",
       "        'good', 'medium high', 'medium low', 'medium high', 'medium high',\n",
       "        'medium low', 'medium high', 'medium high', 'medium low', 'good',\n",
       "        'medium low', 'medium high', 'medium low', 'medium low',\n",
       "        'medium high', 'medium low', 'bad', 'medium high', 'medium high',\n",
       "        'medium high', 'bad', 'medium high', 'good', 'medium low', 'good',\n",
       "        'good', 'medium low', 'medium low', 'medium high', 'medium high',\n",
       "        'medium high', 'medium high', 'medium low', 'medium high',\n",
       "        'medium high', 'medium high', 'medium low', 'medium low',\n",
       "        'medium low', 'medium high', 'good', 'medium high', 'good',\n",
       "        'medium low', 'medium low', 'medium low', 'medium low',\n",
       "        'medium low', 'good', 'medium low', 'medium low', 'medium high',\n",
       "        'medium high', 'medium low', 'medium low', 'medium low',\n",
       "        'medium high', 'medium low', 'good', 'medium low', 'medium low',\n",
       "        'medium high', 'medium low', 'good', 'good', 'medium high', 'good',\n",
       "        'medium low', 'good', 'medium low', 'medium low', 'medium low',\n",
       "        'medium low', 'medium low', 'medium high', 'medium low',\n",
       "        'medium low', 'bad', 'medium high', 'medium high', 'medium low',\n",
       "        'medium high', 'medium high'],\n",
       "       dtype='<U11'))"
      ]
     },
     "execution_count": 189,
     "metadata": {},
     "output_type": "execute_result"
    }
   ],
   "source": [
    "display(HTML('<h3>For White Wine: </h3>'))\n",
    "y_test_white_dt, y_score_white_dt = produce_report('DT for white wine (2 classes)', \n",
    "                                       DecisionTreeClassifier(max_features='log2', \n",
    "                                    criterion='entropy'), white_instances, white_two_classes)\n",
    "produce_report('DT for white wine (3 classes)', DecisionTreeClassifier(max_features=None, \n",
    "                                      criterion='entropy'), white_instances, white_three_classes)\n",
    "produce_report('DT for white wine (4 classes)', DecisionTreeClassifier(max_features=None, \n",
    "                                      criterion='gini'), white_instances, white_four_classes)\n",
    "display(HTML('<h3>For Red Wine: </h3>'))\n",
    "y_test_red_dt, y_score_red_dt = produce_report('DT for red wine (2 classes)', \n",
    "                                       DecisionTreeClassifier(max_features='sqrt', \n",
    "                                      criterion='entropy'), red_instances, red_two_classes)\n",
    "produce_report('DT for red wine (3 classes)', DecisionTreeClassifier(max_features='auto', \n",
    "                                      criterion='gini'), red_instances, red_three_classes)\n",
    "produce_report('DT for red wine (4 classes)', DecisionTreeClassifier(max_features=None, \n",
    "                                      criterion='gini'), red_instances, red_four_classes)\n"
   ]
  },
  {
   "cell_type": "markdown",
   "metadata": {},
   "source": [
    "## Random Forest Results"
   ]
  },
  {
   "cell_type": "code",
   "execution_count": 190,
   "metadata": {},
   "outputs": [
    {
     "data": {
      "text/html": [
       "<h3>For White Wine: </h3>"
      ],
      "text/plain": [
       "<IPython.core.display.HTML object>"
      ]
     },
     "metadata": {},
     "output_type": "display_data"
    },
    {
     "data": {
      "text/html": [
       "<h4>RF for white wine (2 classes)'s accuracy: </h4>"
      ],
      "text/plain": [
       "<IPython.core.display.HTML object>"
      ]
     },
     "metadata": {},
     "output_type": "display_data"
    },
    {
     "name": "stdout",
     "output_type": "stream",
     "text": [
      "0.812244897959\n"
     ]
    },
    {
     "data": {
      "text/html": [
       "<strong>Report</strong>:\n"
      ],
      "text/plain": [
       "<IPython.core.display.HTML object>"
      ]
     },
     "metadata": {},
     "output_type": "display_data"
    },
    {
     "name": "stdout",
     "output_type": "stream",
     "text": [
      "             precision    recall  f1-score   support\n",
      "\n",
      "          0       0.73      0.75      0.74       439\n",
      "          1       0.86      0.85      0.85       786\n",
      "\n",
      "avg / total       0.81      0.81      0.81      1225\n",
      " \n",
      "\n"
     ]
    },
    {
     "data": {
      "text/html": [
       "<h4>RF for white wine (3 classes)'s accuracy: </h4>"
      ],
      "text/plain": [
       "<IPython.core.display.HTML object>"
      ]
     },
     "metadata": {},
     "output_type": "display_data"
    },
    {
     "name": "stdout",
     "output_type": "stream",
     "text": [
      "0.804897959184\n"
     ]
    },
    {
     "data": {
      "text/html": [
       "<strong>Report</strong>:\n"
      ],
      "text/plain": [
       "<IPython.core.display.HTML object>"
      ]
     },
     "metadata": {},
     "output_type": "display_data"
    },
    {
     "name": "stdout",
     "output_type": "stream",
     "text": [
      "             precision    recall  f1-score   support\n",
      "\n",
      "        bad       0.53      0.17      0.26        46\n",
      "       good       0.65      0.64      0.64       274\n",
      "     medium       0.85      0.89      0.87       905\n",
      "\n",
      "avg / total       0.80      0.80      0.80      1225\n",
      " \n",
      "\n"
     ]
    },
    {
     "data": {
      "text/html": [
       "<h4>RF for white wine (4 classes)'s accuracy: </h4>"
      ],
      "text/plain": [
       "<IPython.core.display.HTML object>"
      ]
     },
     "metadata": {},
     "output_type": "display_data"
    },
    {
     "name": "stdout",
     "output_type": "stream",
     "text": [
      "0.602448979592\n"
     ]
    },
    {
     "data": {
      "text/html": [
       "<strong>Report</strong>:\n"
      ],
      "text/plain": [
       "<IPython.core.display.HTML object>"
      ]
     },
     "metadata": {},
     "output_type": "display_data"
    },
    {
     "name": "stdout",
     "output_type": "stream",
     "text": [
      "             precision    recall  f1-score   support\n",
      "\n",
      "        bad       0.19      0.19      0.19        47\n",
      "       good       0.56      0.58      0.57       269\n",
      "medium high       0.64      0.65      0.64       524\n",
      " medium low       0.64      0.61      0.63       385\n",
      "\n",
      "avg / total       0.60      0.60      0.60      1225\n",
      " \n",
      "\n"
     ]
    },
    {
     "data": {
      "text/html": [
       "<h3>For Red Wine: </h3>"
      ],
      "text/plain": [
       "<IPython.core.display.HTML object>"
      ]
     },
     "metadata": {},
     "output_type": "display_data"
    },
    {
     "data": {
      "text/html": [
       "<h4>RF for red wine (2 classes)'s accuracy: </h4>"
      ],
      "text/plain": [
       "<IPython.core.display.HTML object>"
      ]
     },
     "metadata": {},
     "output_type": "display_data"
    },
    {
     "name": "stdout",
     "output_type": "stream",
     "text": [
      "0.78\n"
     ]
    },
    {
     "data": {
      "text/html": [
       "<strong>Report</strong>:\n"
      ],
      "text/plain": [
       "<IPython.core.display.HTML object>"
      ]
     },
     "metadata": {},
     "output_type": "display_data"
    },
    {
     "name": "stdout",
     "output_type": "stream",
     "text": [
      "             precision    recall  f1-score   support\n",
      "\n",
      "          0       0.77      0.73      0.75       181\n",
      "          1       0.79      0.82      0.80       219\n",
      "\n",
      "avg / total       0.78      0.78      0.78       400\n",
      " \n",
      "\n"
     ]
    },
    {
     "data": {
      "text/html": [
       "<h4>RF for red wine (3 classes)'s accuracy: </h4>"
      ],
      "text/plain": [
       "<IPython.core.display.HTML object>"
      ]
     },
     "metadata": {},
     "output_type": "display_data"
    },
    {
     "name": "stdout",
     "output_type": "stream",
     "text": [
      "0.8575\n"
     ]
    },
    {
     "data": {
      "text/html": [
       "<strong>Report</strong>:\n"
      ],
      "text/plain": [
       "<IPython.core.display.HTML object>"
      ]
     },
     "metadata": {},
     "output_type": "display_data"
    },
    {
     "name": "stdout",
     "output_type": "stream",
     "text": [
      "             precision    recall  f1-score   support\n",
      "\n",
      "        bad       0.14      0.10      0.12        10\n",
      "       good       0.55      0.55      0.55        47\n",
      "     medium       0.91      0.92      0.92       343\n",
      "\n",
      "avg / total       0.85      0.86      0.85       400\n",
      " \n",
      "\n"
     ]
    },
    {
     "data": {
      "text/html": [
       "<h4>RF for red wine (4 classes)'s accuracy: </h4>"
      ],
      "text/plain": [
       "<IPython.core.display.HTML object>"
      ]
     },
     "metadata": {},
     "output_type": "display_data"
    },
    {
     "name": "stdout",
     "output_type": "stream",
     "text": [
      "0.695\n"
     ]
    },
    {
     "data": {
      "text/html": [
       "<strong>Report</strong>:\n"
      ],
      "text/plain": [
       "<IPython.core.display.HTML object>"
      ]
     },
     "metadata": {},
     "output_type": "display_data"
    },
    {
     "name": "stdout",
     "output_type": "stream",
     "text": [
      "             precision    recall  f1-score   support\n",
      "\n",
      "        bad       0.14      0.06      0.08        17\n",
      "       good       0.60      0.62      0.61        47\n",
      "medium high       0.69      0.72      0.71       166\n",
      " medium low       0.75      0.75      0.75       170\n",
      "\n",
      "avg / total       0.68      0.69      0.69       400\n",
      " \n",
      "\n"
     ]
    },
    {
     "data": {
      "text/plain": [
       "(array(['medium high', 'medium high', 'medium high', 'medium low',\n",
       "        'medium low', 'medium high', 'medium high', 'good', 'medium low',\n",
       "        'medium high', 'medium low', 'medium high', 'medium high',\n",
       "        'medium high', 'medium high', 'medium low', 'medium low',\n",
       "        'medium high', 'medium high', 'medium low', 'medium high', 'good',\n",
       "        'medium low', 'medium high', 'medium high', 'medium high',\n",
       "        'medium low', 'medium low', 'medium low', 'medium high',\n",
       "        'medium low', 'medium high', 'medium low', 'medium high',\n",
       "        'medium high', 'medium low', 'medium low', 'medium low', 'good',\n",
       "        'medium low', 'good', 'medium low', 'medium low', 'medium low',\n",
       "        'medium high', 'medium high', 'medium low', 'medium low',\n",
       "        'medium high', 'medium high', 'good', 'medium high', 'bad',\n",
       "        'medium high', 'medium low', 'medium low', 'medium low',\n",
       "        'medium high', 'medium high', 'medium high', 'medium high',\n",
       "        'medium low', 'medium low', 'medium high', 'medium high',\n",
       "        'medium high', 'medium low', 'medium low', 'medium high',\n",
       "        'medium high', 'medium high', 'medium high', 'medium high',\n",
       "        'medium low', 'medium low', 'medium low', 'medium high',\n",
       "        'medium high', 'medium low', 'medium low', 'medium high',\n",
       "        'medium high', 'medium low', 'medium low', 'medium high', 'bad',\n",
       "        'medium high', 'medium low', 'medium high', 'medium low',\n",
       "        'medium high', 'medium high', 'medium low', 'medium low',\n",
       "        'medium high', 'medium low', 'medium high', 'medium low', 'good',\n",
       "        'medium high', 'medium low', 'medium low', 'medium high', 'bad',\n",
       "        'medium high', 'medium low', 'medium low', 'medium low',\n",
       "        'medium low', 'medium low', 'medium high', 'medium low',\n",
       "        'medium low', 'good', 'medium low', 'medium high', 'medium low',\n",
       "        'medium high', 'medium low', 'medium low', 'medium low',\n",
       "        'medium high', 'bad', 'medium high', 'medium high', 'medium low',\n",
       "        'medium high', 'good', 'medium low', 'medium high', 'medium low',\n",
       "        'medium low', 'medium low', 'medium high', 'medium high',\n",
       "        'medium low', 'medium low', 'bad', 'medium high', 'medium low',\n",
       "        'good', 'medium high', 'medium high', 'medium low', 'good',\n",
       "        'medium high', 'medium high', 'medium low', 'medium low',\n",
       "        'medium high', 'medium high', 'medium low', 'medium high',\n",
       "        'medium high', 'medium low', 'medium high', 'medium high',\n",
       "        'medium high', 'good', 'medium low', 'medium high', 'medium high',\n",
       "        'good', 'medium high', 'medium high', 'medium low', 'medium high',\n",
       "        'medium high', 'good', 'medium high', 'medium high', 'medium low',\n",
       "        'medium high', 'good', 'medium high', 'medium low', 'medium low',\n",
       "        'good', 'good', 'medium high', 'medium low', 'medium high', 'good',\n",
       "        'medium high', 'medium high', 'medium high', 'medium high',\n",
       "        'medium low', 'medium high', 'medium high', 'medium low',\n",
       "        'medium low', 'medium low', 'medium high', 'medium high', 'good',\n",
       "        'bad', 'medium low', 'medium low', 'medium high', 'medium low',\n",
       "        'medium low', 'good', 'medium low', 'medium high', 'medium high',\n",
       "        'medium high', 'medium high', 'medium low', 'medium low',\n",
       "        'medium high', 'good', 'medium low', 'medium high', 'medium high',\n",
       "        'bad', 'medium high', 'medium low', 'medium high', 'medium low',\n",
       "        'good', 'medium high', 'medium low', 'good', 'medium high',\n",
       "        'medium low', 'bad', 'medium high', 'medium high', 'medium low',\n",
       "        'medium high', 'medium low', 'good', 'medium low', 'medium low',\n",
       "        'good', 'medium low', 'medium low', 'medium high', 'medium low',\n",
       "        'medium low', 'medium high', 'medium low', 'medium high',\n",
       "        'medium high', 'medium high', 'medium low', 'medium low', 'bad',\n",
       "        'medium high', 'good', 'medium low', 'medium high', 'good',\n",
       "        'medium low', 'medium high', 'medium high', 'good', 'medium low',\n",
       "        'medium low', 'medium low', 'medium low', 'medium low',\n",
       "        'medium low', 'good', 'medium low', 'medium high', 'medium high',\n",
       "        'medium low', 'good', 'medium low', 'medium high', 'medium low',\n",
       "        'medium low', 'medium low', 'bad', 'medium low', 'medium high',\n",
       "        'medium low', 'medium high', 'good', 'medium high', 'medium high',\n",
       "        'medium low', 'medium high', 'medium low', 'medium low',\n",
       "        'medium high', 'medium high', 'medium low', 'medium high',\n",
       "        'medium high', 'good', 'medium low', 'medium low', 'medium high',\n",
       "        'medium low', 'medium low', 'medium low', 'good', 'medium high',\n",
       "        'medium low', 'medium high', 'medium low', 'good', 'medium low',\n",
       "        'medium high', 'medium high', 'medium low', 'medium high',\n",
       "        'medium high', 'medium low', 'good', 'medium high', 'good',\n",
       "        'medium high', 'medium high', 'medium low', 'medium high', 'bad',\n",
       "        'good', 'medium low', 'medium low', 'medium low', 'medium high',\n",
       "        'medium low', 'medium low', 'medium low', 'medium low',\n",
       "        'medium low', 'good', 'medium high', 'bad', 'medium low', 'bad',\n",
       "        'medium high', 'good', 'medium low', 'medium high', 'medium high',\n",
       "        'bad', 'good', 'medium low', 'medium high', 'medium high',\n",
       "        'medium low', 'good', 'medium high', 'medium high', 'medium high',\n",
       "        'medium low', 'medium low', 'medium high', 'medium low',\n",
       "        'medium low', 'medium high', 'good', 'bad', 'medium low', 'good',\n",
       "        'medium high', 'medium low', 'medium high', 'medium low',\n",
       "        'medium low', 'medium high', 'medium low', 'medium low', 'bad',\n",
       "        'medium low', 'medium low', 'medium low', 'medium low', 'bad',\n",
       "        'medium high', 'medium low', 'medium low', 'medium low',\n",
       "        'medium low', 'good', 'medium low', 'medium high', 'medium high',\n",
       "        'medium low', 'medium high', 'medium high', 'medium low', 'good',\n",
       "        'medium low', 'medium high', 'medium high', 'good', 'medium low',\n",
       "        'medium high', 'good', 'medium low', 'good', 'medium high',\n",
       "        'medium high', 'medium low'],\n",
       "       dtype='<U11'),\n",
       " array(['medium high', 'medium high', 'medium high', 'medium low',\n",
       "        'medium low', 'good', 'medium high', 'good', 'medium low',\n",
       "        'medium high', 'medium low', 'medium high', 'medium low',\n",
       "        'medium low', 'good', 'medium low', 'medium low', 'medium low',\n",
       "        'medium high', 'medium low', 'medium high', 'good', 'medium low',\n",
       "        'medium high', 'good', 'medium high', 'medium low', 'medium high',\n",
       "        'medium low', 'medium high', 'bad', 'medium high', 'medium low',\n",
       "        'medium low', 'medium high', 'medium low', 'medium low',\n",
       "        'medium high', 'good', 'medium low', 'good', 'good', 'medium low',\n",
       "        'medium high', 'medium high', 'medium high', 'medium low',\n",
       "        'medium low', 'medium low', 'medium high', 'medium high',\n",
       "        'medium high', 'medium low', 'medium low', 'medium low',\n",
       "        'medium high', 'medium low', 'medium low', 'medium high',\n",
       "        'medium high', 'medium high', 'medium high', 'good', 'medium high',\n",
       "        'medium high', 'good', 'medium low', 'medium low', 'medium high',\n",
       "        'medium high', 'medium high', 'medium high', 'medium high',\n",
       "        'medium low', 'medium high', 'medium low', 'medium low',\n",
       "        'medium high', 'medium low', 'medium low', 'medium high',\n",
       "        'medium high', 'medium low', 'medium low', 'medium high',\n",
       "        'medium low', 'medium high', 'medium low', 'medium high',\n",
       "        'medium low', 'medium high', 'medium high', 'medium low',\n",
       "        'medium high', 'medium high', 'medium low', 'medium high',\n",
       "        'medium low', 'medium high', 'good', 'medium low', 'medium low',\n",
       "        'medium high', 'medium low', 'medium high', 'medium high',\n",
       "        'medium low', 'medium low', 'medium low', 'medium low',\n",
       "        'medium high', 'medium low', 'medium low', 'good', 'medium low',\n",
       "        'medium high', 'medium high', 'medium high', 'medium low',\n",
       "        'medium low', 'medium high', 'medium low', 'medium low',\n",
       "        'medium high', 'good', 'good', 'medium high', 'medium high',\n",
       "        'medium low', 'medium high', 'medium low', 'medium low',\n",
       "        'medium high', 'bad', 'medium high', 'medium low', 'medium low',\n",
       "        'medium high', 'medium high', 'medium high', 'medium high',\n",
       "        'medium high', 'medium high', 'medium low', 'medium high',\n",
       "        'medium low', 'medium high', 'medium low', 'medium low',\n",
       "        'medium low', 'medium low', 'medium low', 'medium high',\n",
       "        'medium high', 'medium low', 'medium high', 'medium high',\n",
       "        'medium low', 'good', 'medium low', 'medium low', 'medium low',\n",
       "        'medium high', 'medium high', 'medium high', 'medium low',\n",
       "        'medium high', 'medium high', 'medium high', 'medium high',\n",
       "        'medium high', 'medium low', 'medium high', 'medium high', 'good',\n",
       "        'medium low', 'medium low', 'good', 'medium high', 'medium low',\n",
       "        'medium low', 'medium high', 'good', 'good', 'medium high',\n",
       "        'medium high', 'medium high', 'medium low', 'medium high',\n",
       "        'medium low', 'medium low', 'medium low', 'medium low',\n",
       "        'medium low', 'medium high', 'medium low', 'medium low',\n",
       "        'medium low', 'medium low', 'medium high', 'medium low',\n",
       "        'medium low', 'good', 'medium low', 'medium high', 'medium high',\n",
       "        'medium high', 'medium low', 'medium high', 'medium high',\n",
       "        'medium high', 'good', 'medium low', 'medium high', 'medium high',\n",
       "        'medium low', 'medium high', 'medium low', 'medium high',\n",
       "        'medium low', 'good', 'medium high', 'medium low', 'good',\n",
       "        'medium high', 'medium low', 'medium high', 'medium high',\n",
       "        'medium high', 'medium low', 'medium high', 'medium high', 'good',\n",
       "        'medium low', 'medium low', 'bad', 'medium low', 'medium low',\n",
       "        'good', 'medium low', 'medium low', 'medium low', 'medium low',\n",
       "        'medium high', 'medium high', 'medium high', 'medium high',\n",
       "        'medium low', 'medium low', 'good', 'good', 'good', 'medium high',\n",
       "        'good', 'medium low', 'medium high', 'medium high', 'good',\n",
       "        'medium high', 'bad', 'medium low', 'medium low', 'medium low',\n",
       "        'medium high', 'medium low', 'medium low', 'medium high',\n",
       "        'medium high', 'medium low', 'good', 'medium low', 'medium high',\n",
       "        'medium high', 'medium high', 'medium low', 'medium high',\n",
       "        'medium low', 'medium high', 'medium low', 'good', 'good',\n",
       "        'medium high', 'medium high', 'medium low', 'medium high',\n",
       "        'medium low', 'medium low', 'medium high', 'medium high',\n",
       "        'medium low', 'medium low', 'good', 'good', 'medium high',\n",
       "        'medium low', 'medium high', 'medium low', 'medium low',\n",
       "        'medium high', 'good', 'medium high', 'medium low', 'medium low',\n",
       "        'medium low', 'medium high', 'medium low', 'medium high',\n",
       "        'medium high', 'medium low', 'medium low', 'medium high',\n",
       "        'medium low', 'medium high', 'medium high', 'medium high',\n",
       "        'medium high', 'medium high', 'medium low', 'medium high',\n",
       "        'medium low', 'good', 'medium high', 'medium low', 'medium low',\n",
       "        'medium high', 'medium high', 'medium low', 'medium low',\n",
       "        'medium low', 'medium low', 'good', 'medium low', 'medium low',\n",
       "        'medium high', 'medium high', 'medium low', 'good', 'medium high',\n",
       "        'medium high', 'medium high', 'medium low', 'good', 'medium high',\n",
       "        'medium low', 'medium high', 'medium low', 'good', 'medium low',\n",
       "        'medium high', 'good', 'medium low', 'medium low', 'medium high',\n",
       "        'medium low', 'medium low', 'medium high', 'good', 'medium high',\n",
       "        'medium high', 'medium high', 'medium high', 'medium low',\n",
       "        'medium low', 'medium high', 'medium low', 'good', 'medium low',\n",
       "        'bad', 'medium low', 'medium low', 'medium low', 'medium low',\n",
       "        'medium high', 'bad', 'medium high', 'medium high', 'medium low',\n",
       "        'medium high', 'medium low', 'good', 'medium low', 'medium high',\n",
       "        'medium high', 'medium low', 'medium high', 'medium low',\n",
       "        'medium low', 'good', 'medium low', 'medium high', 'medium low',\n",
       "        'medium high', 'medium high', 'medium high', 'bad', 'medium high',\n",
       "        'good', 'medium high', 'good', 'medium high'],\n",
       "       dtype='<U11'))"
      ]
     },
     "execution_count": 190,
     "metadata": {},
     "output_type": "execute_result"
    }
   ],
   "source": [
    "display(HTML('<h3>For White Wine: </h3>'))\n",
    "y_test_white_rf, y_score_white_rf = produce_report('RF for white wine (2 classes)', \n",
    "                                       RandomForestClassifier(max_features='auto', \n",
    "                                      criterion='entropy'), white_instances, white_two_classes)\n",
    "produce_report('RF for white wine (3 classes)', RandomForestClassifier(max_features='auto', \n",
    "                                      criterion='entropy'), white_instances, white_three_classes)\n",
    "produce_report('RF for white wine (4 classes)', DecisionTreeClassifier(max_features='sqrt', \n",
    "                                      criterion='gini'), white_instances, white_four_classes)\n",
    "display(HTML('<h3>For Red Wine: </h3>'))\n",
    "y_test_red_rf, y_score_red_rf = produce_report('RF for red wine (2 classes)', \n",
    "                                       RandomForestClassifier(max_features='auto', \n",
    "                                      criterion='entropy'), red_instances, red_two_classes)\n",
    "produce_report('RF for red wine (3 classes)', RandomForestClassifier(max_features='sqrt', \n",
    "                                      criterion='gini'), red_instances, red_three_classes)\n",
    "produce_report('RF for red wine (4 classes)', RandomForestClassifier(max_features='log2', \n",
    "                                      criterion='gini'), red_instances, red_four_classes)\n"
   ]
  },
  {
   "cell_type": "markdown",
   "metadata": {},
   "source": [
    "## ROC Curve for Decision Tree"
   ]
  },
  {
   "cell_type": "code",
   "execution_count": 191,
   "metadata": {},
   "outputs": [],
   "source": [
    "# Compute ROC curve and ROC area for each class\n",
    "def draw_curve(title, y_test, y_preds):    \n",
    "    fpr, tpr, thresholds = roc_curve(y_test, y_preds)\n",
    "    roc_auc = auc(fpr, tpr)\n",
    "    plt.figure()\n",
    "    plt.plot(fpr, tpr, color='darkorange',\n",
    "             label='AUC = %0.2f' % roc_auc)\n",
    "    plt.plot([0, 1], [0, 1], color='navy', lw=2, linestyle='--')\n",
    "    plt.xlim([0.0, 1.0])\n",
    "    plt.ylim([0.0, 1.05])\n",
    "    plt.xlabel('False Positive Rate')\n",
    "    plt.ylabel('True Positive Rate')\n",
    "    plt.title(title)\n",
    "    plt.legend(loc=\"lower right\")\n",
    "    plt.show()"
   ]
  },
  {
   "cell_type": "code",
   "execution_count": 192,
   "metadata": {},
   "outputs": [
    {
     "data": {
      "image/png": "[encoded data removed]",
      "text/plain": [
       "<matplotlib.figure.Figure at 0x2553d374e80>"
      ]
     },
     "metadata": {},
     "output_type": "display_data"
    },
    {
     "data": {
      "image/png": "[encoded data removed]",
      "text/plain": [
       "<matplotlib.figure.Figure at 0x2553d1b9518>"
      ]
     },
     "metadata": {},
     "output_type": "display_data"
    }
   ],
   "source": [
    "draw_curve('ROC for White wine', y_test_white_dt, y_score_white_dt)\n",
    "draw_curve('ROC for Red wine', y_test_red_dt, y_score_red_dt)"
   ]
  },
  {
   "cell_type": "markdown",
   "metadata": {},
   "source": [
    "## ROC Curve for Random Forest"
   ]
  },
  {
   "cell_type": "code",
   "execution_count": 193,
   "metadata": {},
   "outputs": [
    {
     "data": {
      "image/png": "[encoded data removed]",
      "text/plain": [
       "<matplotlib.figure.Figure at 0x2553d338128>"
      ]
     },
     "metadata": {},
     "output_type": "display_data"
    },
    {
     "data": {
      "image/png": "[encoded data removed]",
      "text/plain": [
       "<matplotlib.figure.Figure at 0x2553d39a518>"
      ]
     },
     "metadata": {},
     "output_type": "display_data"
    }
   ],
   "source": [
    "draw_curve(\"ROC for White wine\", y_test_white_rf, y_score_white_rf)\n",
    "draw_curve(\"ROC for Red wine\", y_test_red_rf, y_score_red_rf)"
   ]
  },
  {
   "cell_type": "code",
   "execution_count": null,
   "metadata": {
    "collapsed": true
   },
   "outputs": [],
   "source": []
  },
  {
   "cell_type": "code",
   "execution_count": null,
   "metadata": {
    "collapsed": true
   },
   "outputs": [],
   "source": []
  },
  {
   "cell_type": "code",
   "execution_count": null,
   "metadata": {
    "collapsed": true
   },
   "outputs": [],
   "source": []
  }
 ],
 "metadata": {
  "kernelspec": {
   "display_name": "Python [conda root]",
   "language": "python",
   "name": "conda-root-py"
  },
  "language_info": {
   "codemirror_mode": {
    "name": "ipython",
    "version": 3
   },
   "file_extension": ".py",
   "mimetype": "text/x-python",
   "name": "python",
   "nbconvert_exporter": "python",
   "pygments_lexer": "ipython3",
   "version": "3.6.1"
  }
 },
 "nbformat": 4,
 "nbformat_minor": 2
}
