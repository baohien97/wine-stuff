{
 "cells": [
  {
   "cell_type": "code",
   "execution_count": 64,
   "metadata": {},
   "outputs": [],
   "source": [
    "%matplotlib inline\n",
    "import numpy as np\n",
    "import matplotlib.pyplot as plt\n",
    "import csv\n",
    "from IPython.core.display import display, HTML"
   ]
  },
  {
   "cell_type": "code",
   "execution_count": 37,
   "metadata": {
    "collapsed": true
   },
   "outputs": [],
   "source": [
    "def preprocess(file_name):\n",
    "    results = []\n",
    "    with open(file_name) as csvfile:\n",
    "        wine_reader = csv.reader(csvfile, dialect=\"excel\", delimiter=';')\n",
    "        for row in wine_reader:\n",
    "            results.append(row)\n",
    "    name_features = results[0]\n",
    "    #print(name_features)\n",
    "    parsed_results = []\n",
    "    for row in results[1:]:\n",
    "        new_row = []\n",
    "        for num in row:\n",
    "            new_row.append(float(num))\n",
    "        parsed_results.append(new_row)\n",
    "    parsed_results = np.array(parsed_results)\n",
    "    n_instances = parsed_results.shape[0]\n",
    "    n_features = parsed_results.shape[1] - 1\n",
    "    labels = parsed_results[:, n_features]\n",
    "    instances = parsed_results[:, : n_features]\n",
    "    return instances, labels\n",
    "white_instances, white_labels = preprocess('winequality-white.csv')\n",
    "red_instances, red_labels = preprocess('winequality-red.csv')\n",
    "white_two_classes = np.array([0 if num <6 else 1 for num in white_labels])\n",
    "red_two_classes = np.array([0 if num <6 else 1 for num in red_labels])"
   ]
  },
  {
   "cell_type": "code",
   "execution_count": 8,
   "metadata": {
    "collapsed": true
   },
   "outputs": [],
   "source": [
    "def three_classes(wine_labels):\n",
    "    transformed = []\n",
    "    for score in wine_labels:\n",
    "        if score <= 4:\n",
    "            transformed.append(\"bad\")\n",
    "        elif score <= 6:\n",
    "            transformed.append(\"medium\")\n",
    "        else:\n",
    "            transformed.append(\"good\")\n",
    "    return np.array(transformed)\n",
    "def four_classes(wine_labels):\n",
    "    transformed = []\n",
    "    for score in wine_labels:\n",
    "        if score <= 4:\n",
    "            transformed.append(\"bad\")\n",
    "        elif score == 5:\n",
    "            transformed.append(\"medium low\")\n",
    "        elif score == 6:\n",
    "            transformed.append(\"medium high\")\n",
    "        else:\n",
    "            transformed.append(\"good\")\n",
    "    return np.array(transformed)"
   ]
  },
  {
   "cell_type": "code",
   "execution_count": 9,
   "metadata": {},
   "outputs": [],
   "source": [
    "white_three_classes = three_classes(white_labels)\n",
    "red_three_classes = three_classes(red_labels)\n",
    "white_four_classes = four_classes(white_labels)\n",
    "red_four_classes = four_classes(red_labels)"
   ]
  },
  {
   "cell_type": "code",
   "execution_count": 16,
   "metadata": {
    "collapsed": true
   },
   "outputs": [],
   "source": [
    "from sklearn.ensemble import RandomForestClassifier\n",
    "from sklearn.tree import DecisionTreeClassifier\n",
    "from sklearn.linear_model import LogisticRegression #logistic regression classifier\n",
    "from sklearn.metrics import classification_report, accuracy_score, confusion_matrix # for reporting\n",
    "from sklearn.metrics import roc_curve, auc\n",
    "from sklearn.model_selection import train_test_split\n",
    "from sklearn.preprocessing import StandardScaler # to normalize data (NN is very sensitive to this!)\n",
    "from sklearn.model_selection import cross_val_score, GridSearchCV #BONUS"
   ]
  },
  {
   "cell_type": "code",
   "execution_count": 29,
   "metadata": {
    "collapsed": true
   },
   "outputs": [],
   "source": [
    "random_forest = RandomForestClassifier()\n",
    "decision_tree = DecisionTreeClassifier()"
   ]
  },
  {
   "cell_type": "code",
   "execution_count": 46,
   "metadata": {
    "collapsed": true
   },
   "outputs": [],
   "source": [
    "def tune(params, clf, instances, labels):\n",
    "    x_train, x_test, y_train, y_test = train_test_split(instances, labels)\n",
    "    gs = GridSearchCV(clf, param_grid=params, cv=5)\n",
    "    gs.fit(x_train, y_train)\n",
    "    return gs.best_params_"
   ]
  },
  {
   "cell_type": "code",
   "execution_count": 60,
   "metadata": {},
   "outputs": [
    {
     "name": "stdout",
     "output_type": "stream",
     "text": [
      "DT classifier: \n",
      "\n",
      "best for white (2 classes) {'criterion': 'entropy', 'max_features': 'log2'}\n",
      "best for white (3 classes) {'criterion': 'entropy', 'max_features': None}\n",
      "best for white (4 classes) {'criterion': 'entropy', 'max_features': 'sqrt'}\n",
      "\n",
      "\n",
      "best for red (2 classes) {'criterion': 'entropy', 'max_features': None}\n",
      "best for red (3 classes) {'criterion': 'gini', 'max_features': 'sqrt'}\n",
      "best for red (4 classes) {'criterion': 'gini', 'max_features': None}\n"
     ]
    }
   ],
   "source": [
    "params = {'max_features': [None, 'auto', 'sqrt', 'log2'], 'criterion': ['gini', 'entropy']}\n",
    "print(\"DT classifier: \\n\")\n",
    "print(\"best for white (2 classes)\", tune(params, DecisionTreeClassifier(), white_instances, white_two_classes))\n",
    "print(\"best for white (3 classes)\", tune(params, DecisionTreeClassifier(), white_instances, white_three_classes))\n",
    "print(\"best for white (4 classes)\", tune(params, DecisionTreeClassifier(), white_instances, white_four_classes))\n",
    "print(\"\\n\")\n",
    "print(\"best for red (2 classes)\", tune(params, DecisionTreeClassifier(), red_instances, red_two_classes))\n",
    "print(\"best for red (3 classes)\", tune(params, DecisionTreeClassifier(), red_instances, red_three_classes))\n",
    "print(\"best for red (4 classes)\", tune(params, DecisionTreeClassifier(), red_instances, red_four_classes))"
   ]
  },
  {
   "cell_type": "code",
   "execution_count": 49,
   "metadata": {},
   "outputs": [],
   "source": [
    "rfc_params = {'max_features': [None, 'auto', 'sqrt', 'log2'], 'criterion': ['entropy', 'gini']}\n",
    "print(\"tune(rfc_params, RandomForestClassifier(), white_instances, white_two_classes)"
   ]
  },
  {
   "cell_type": "code",
   "execution_count": 61,
   "metadata": {},
   "outputs": [
    {
     "name": "stdout",
     "output_type": "stream",
     "text": [
      "RF classifier: \n",
      "\n",
      "best for white (2 classes) {'criterion': 'entropy', 'max_features': 'sqrt'}\n",
      "best for white (3 classes) {'criterion': 'gini', 'max_features': 'log2'}\n",
      "best for white (4 classes) {'criterion': 'entropy', 'max_features': 'log2'}\n",
      "\n",
      "\n",
      "best for red (2 classes) {'criterion': 'entropy', 'max_features': 'log2'}\n",
      "best for red (3 classes) {'criterion': 'gini', 'max_features': 'sqrt'}\n",
      "best for red (4 classes) {'criterion': 'gini', 'max_features': 'log2'}\n"
     ]
    }
   ],
   "source": [
    "print(\"RF classifier: \\n\")\n",
    "print(\"best for white (2 classes)\", tune(params, RandomForestClassifier(), white_instances, white_two_classes))\n",
    "print(\"best for white (3 classes)\", tune(params, RandomForestClassifier(), white_instances, white_three_classes))\n",
    "print(\"best for white (4 classes)\", tune(params, RandomForestClassifier(), white_instances, white_four_classes))\n",
    "print(\"\\n\")\n",
    "print(\"best for red (2 classes)\", tune(params, RandomForestClassifier(), red_instances, red_two_classes))\n",
    "print(\"best for red (3 classes)\", tune(params, RandomForestClassifier(), red_instances, red_three_classes))\n",
    "print(\"best for red (4 classes)\", tune(params, RandomForestClassifier(), red_instances, red_four_classes))"
   ]
  },
  {
   "cell_type": "code",
   "execution_count": 100,
   "metadata": {},
   "outputs": [],
   "source": [
    "def produce_report(clf_name, clf, instances, labels):\n",
    "    x_train, x_test, y_train, y_test = train_test_split(instances, labels)\n",
    "    clf = clf\n",
    "    preds = clf.fit(x_train, y_train).predict(x_test)\n",
    "    display(HTML('<h4>' + clf_name + \"'s accuracy: </h4>\"))\n",
    "    print(accuracy_score(y_test, preds))\n",
    "    display(HTML('<strong>Report</strong>:\\n'))\n",
    "    print(classification_report(y_test, preds), \"\\n\")\n",
    "    return y_test, preds\n"
   ]
  },
  {
   "cell_type": "markdown",
   "metadata": {},
   "source": [
    "## Decision Tree Results"
   ]
  },
  {
   "cell_type": "code",
   "execution_count": 168,
   "metadata": {},
   "outputs": [
    {
     "data": {
      "text/html": [
       "<h3>For White Wine: </h3>"
      ],
      "text/plain": [
       "<IPython.core.display.HTML object>"
      ]
     },
     "metadata": {},
     "output_type": "display_data"
    },
    {
     "data": {
      "text/html": [
       "<h4>DT for white wine (2 classes)'s accuracy: </h4>"
      ],
      "text/plain": [
       "<IPython.core.display.HTML object>"
      ]
     },
     "metadata": {},
     "output_type": "display_data"
    },
    {
     "name": "stdout",
     "output_type": "stream",
     "text": [
      "0.765714285714\n"
     ]
    },
    {
     "data": {
      "text/html": [
       "<strong>Report</strong>:\n"
      ],
      "text/plain": [
       "<IPython.core.display.HTML object>"
      ]
     },
     "metadata": {},
     "output_type": "display_data"
    },
    {
     "name": "stdout",
     "output_type": "stream",
     "text": [
      "             precision    recall  f1-score   support\n",
      "\n",
      "          0       0.64      0.66      0.65       407\n",
      "          1       0.83      0.82      0.82       818\n",
      "\n",
      "avg / total       0.77      0.77      0.77      1225\n",
      " \n",
      "\n"
     ]
    },
    {
     "data": {
      "text/html": [
       "<h4>DT for white wine (3 classes)'s accuracy: </h4>"
      ],
      "text/plain": [
       "<IPython.core.display.HTML object>"
      ]
     },
     "metadata": {},
     "output_type": "display_data"
    },
    {
     "name": "stdout",
     "output_type": "stream",
     "text": [
      "0.779591836735\n"
     ]
    },
    {
     "data": {
      "text/html": [
       "<strong>Report</strong>:\n"
      ],
      "text/plain": [
       "<IPython.core.display.HTML object>"
      ]
     },
     "metadata": {},
     "output_type": "display_data"
    },
    {
     "name": "stdout",
     "output_type": "stream",
     "text": [
      "             precision    recall  f1-score   support\n",
      "\n",
      "        bad       0.31      0.34      0.33        44\n",
      "       good       0.60      0.61      0.61       268\n",
      "     medium       0.86      0.85      0.85       913\n",
      "\n",
      "avg / total       0.78      0.78      0.78      1225\n",
      " \n",
      "\n"
     ]
    },
    {
     "data": {
      "text/html": [
       "<h4>DT for white wine (4 classes)'s accuracy: </h4>"
      ],
      "text/plain": [
       "<IPython.core.display.HTML object>"
      ]
     },
     "metadata": {},
     "output_type": "display_data"
    },
    {
     "name": "stdout",
     "output_type": "stream",
     "text": [
      "0.609795918367\n"
     ]
    },
    {
     "data": {
      "text/html": [
       "<strong>Report</strong>:\n"
      ],
      "text/plain": [
       "<IPython.core.display.HTML object>"
      ]
     },
     "metadata": {},
     "output_type": "display_data"
    },
    {
     "name": "stdout",
     "output_type": "stream",
     "text": [
      "             precision    recall  f1-score   support\n",
      "\n",
      "        bad       0.26      0.21      0.24        47\n",
      "       good       0.60      0.59      0.60       254\n",
      "medium high       0.62      0.63      0.63       546\n",
      " medium low       0.63      0.64      0.64       378\n",
      "\n",
      "avg / total       0.61      0.61      0.61      1225\n",
      " \n",
      "\n"
     ]
    },
    {
     "data": {
      "text/html": [
       "<h3>For Red Wine: </h3>"
      ],
      "text/plain": [
       "<IPython.core.display.HTML object>"
      ]
     },
     "metadata": {},
     "output_type": "display_data"
    },
    {
     "data": {
      "text/html": [
       "<h4>DT for red wine (2 classes)'s accuracy: </h4>"
      ],
      "text/plain": [
       "<IPython.core.display.HTML object>"
      ]
     },
     "metadata": {},
     "output_type": "display_data"
    },
    {
     "name": "stdout",
     "output_type": "stream",
     "text": [
      "0.7775\n"
     ]
    },
    {
     "data": {
      "text/html": [
       "<strong>Report</strong>:\n"
      ],
      "text/plain": [
       "<IPython.core.display.HTML object>"
      ]
     },
     "metadata": {},
     "output_type": "display_data"
    },
    {
     "name": "stdout",
     "output_type": "stream",
     "text": [
      "             precision    recall  f1-score   support\n",
      "\n",
      "          0       0.70      0.78      0.74       161\n",
      "          1       0.84      0.77      0.81       239\n",
      "\n",
      "avg / total       0.78      0.78      0.78       400\n",
      " \n",
      "\n"
     ]
    },
    {
     "data": {
      "text/html": [
       "<h4>DT for red wine (3 classes)'s accuracy: </h4>"
      ],
      "text/plain": [
       "<IPython.core.display.HTML object>"
      ]
     },
     "metadata": {},
     "output_type": "display_data"
    },
    {
     "name": "stdout",
     "output_type": "stream",
     "text": [
      "0.82\n"
     ]
    },
    {
     "data": {
      "text/html": [
       "<strong>Report</strong>:\n"
      ],
      "text/plain": [
       "<IPython.core.display.HTML object>"
      ]
     },
     "metadata": {},
     "output_type": "display_data"
    },
    {
     "name": "stdout",
     "output_type": "stream",
     "text": [
      "             precision    recall  f1-score   support\n",
      "\n",
      "        bad       0.06      0.10      0.08        10\n",
      "       good       0.61      0.50      0.55        60\n",
      "     medium       0.89      0.90      0.89       330\n",
      "\n",
      "avg / total       0.82      0.82      0.82       400\n",
      " \n",
      "\n"
     ]
    },
    {
     "data": {
      "text/html": [
       "<h4>DT for red wine (4 classes)'s accuracy: </h4>"
      ],
      "text/plain": [
       "<IPython.core.display.HTML object>"
      ]
     },
     "metadata": {},
     "output_type": "display_data"
    },
    {
     "name": "stdout",
     "output_type": "stream",
     "text": [
      "0.6025\n"
     ]
    },
    {
     "data": {
      "text/html": [
       "<strong>Report</strong>:\n"
      ],
      "text/plain": [
       "<IPython.core.display.HTML object>"
      ]
     },
     "metadata": {},
     "output_type": "display_data"
    },
    {
     "name": "stdout",
     "output_type": "stream",
     "text": [
      "             precision    recall  f1-score   support\n",
      "\n",
      "        bad       0.14      0.06      0.09        16\n",
      "       good       0.50      0.42      0.46        64\n",
      "medium high       0.56      0.66      0.61       157\n",
      " medium low       0.71      0.67      0.69       163\n",
      "\n",
      "avg / total       0.59      0.60      0.60       400\n",
      " \n",
      "\n"
     ]
    },
    {
     "data": {
      "text/plain": [
       "(array(['medium high', 'medium high', 'good', 'medium high', 'medium high',\n",
       "        'medium low', 'bad', 'medium low', 'medium low', 'medium low',\n",
       "        'medium low', 'medium high', 'good', 'medium high', 'medium high',\n",
       "        'good', 'medium high', 'medium high', 'good', 'medium high', 'good',\n",
       "        'medium high', 'medium high', 'good', 'medium low', 'medium low',\n",
       "        'medium high', 'medium high', 'medium high', 'medium high',\n",
       "        'medium high', 'medium high', 'medium low', 'medium low',\n",
       "        'medium low', 'medium high', 'medium high', 'medium low',\n",
       "        'medium high', 'medium high', 'medium high', 'medium high',\n",
       "        'medium low', 'good', 'medium high', 'medium low', 'medium low',\n",
       "        'medium low', 'medium low', 'medium low', 'medium low', 'good',\n",
       "        'medium high', 'medium high', 'medium low', 'medium low', 'good',\n",
       "        'medium low', 'medium low', 'medium low', 'good', 'medium low',\n",
       "        'medium low', 'medium high', 'medium high', 'good', 'medium low',\n",
       "        'medium low', 'medium low', 'medium high', 'medium low', 'good',\n",
       "        'medium high', 'medium low', 'medium high', 'medium low', 'bad',\n",
       "        'medium low', 'good', 'medium high', 'medium high', 'medium low',\n",
       "        'medium high', 'medium low', 'good', 'medium low', 'medium high',\n",
       "        'medium high', 'medium high', 'medium high', 'medium high',\n",
       "        'medium low', 'medium high', 'medium high', 'medium high',\n",
       "        'medium low', 'medium low', 'medium high', 'medium low',\n",
       "        'medium low', 'medium low', 'good', 'medium high', 'good',\n",
       "        'medium high', 'medium low', 'medium low', 'medium low',\n",
       "        'medium high', 'medium low', 'medium high', 'medium high', 'good',\n",
       "        'medium low', 'medium high', 'medium low', 'medium high',\n",
       "        'medium low', 'medium high', 'medium high', 'good', 'medium low',\n",
       "        'medium high', 'medium low', 'medium high', 'good', 'medium low',\n",
       "        'medium low', 'good', 'medium low', 'medium low', 'medium low',\n",
       "        'medium high', 'medium high', 'medium low', 'good', 'medium high',\n",
       "        'medium low', 'medium low', 'medium low', 'good', 'medium low',\n",
       "        'medium high', 'good', 'medium low', 'good', 'medium high',\n",
       "        'medium low', 'good', 'medium low', 'good', 'medium low', 'good',\n",
       "        'medium high', 'bad', 'medium low', 'medium high', 'medium high',\n",
       "        'medium low', 'good', 'bad', 'bad', 'bad', 'medium high', 'good',\n",
       "        'good', 'medium low', 'medium high', 'medium low', 'medium low',\n",
       "        'medium high', 'medium high', 'good', 'good', 'medium low', 'good',\n",
       "        'good', 'medium low', 'good', 'medium high', 'medium high',\n",
       "        'medium high', 'good', 'medium high', 'medium high', 'medium high',\n",
       "        'medium low', 'medium low', 'medium high', 'medium high',\n",
       "        'medium low', 'medium low', 'medium high', 'good', 'medium high',\n",
       "        'medium low', 'bad', 'medium high', 'medium low', 'medium low',\n",
       "        'medium high', 'medium high', 'good', 'medium low', 'medium low',\n",
       "        'good', 'medium low', 'medium high', 'bad', 'medium low',\n",
       "        'medium low', 'medium high', 'medium high', 'medium low',\n",
       "        'medium low', 'medium high', 'medium high', 'medium high',\n",
       "        'medium low', 'good', 'medium high', 'medium low', 'medium high',\n",
       "        'bad', 'medium low', 'medium high', 'medium low', 'medium low',\n",
       "        'medium high', 'medium high', 'medium low', 'medium high',\n",
       "        'medium low', 'medium high', 'medium high', 'medium low',\n",
       "        'medium low', 'medium high', 'medium high', 'medium low',\n",
       "        'medium high', 'medium low', 'medium low', 'medium low',\n",
       "        'medium high', 'medium high', 'medium low', 'medium high',\n",
       "        'medium high', 'medium high', 'medium high', 'good', 'good', 'good',\n",
       "        'medium low', 'medium low', 'bad', 'good', 'medium high',\n",
       "        'medium low', 'good', 'medium high', 'good', 'medium low',\n",
       "        'medium low', 'medium high', 'medium high', 'medium low',\n",
       "        'medium low', 'medium low', 'medium high', 'medium low',\n",
       "        'medium high', 'medium low', 'medium high', 'medium high',\n",
       "        'medium high', 'good', 'medium low', 'medium low', 'medium low',\n",
       "        'medium low', 'bad', 'bad', 'good', 'medium low', 'medium low',\n",
       "        'medium low', 'good', 'medium low', 'medium high', 'medium low',\n",
       "        'medium low', 'medium low', 'medium low', 'medium low',\n",
       "        'medium low', 'medium low', 'medium low', 'medium high', 'good',\n",
       "        'medium high', 'medium high', 'bad', 'good', 'medium low',\n",
       "        'medium low', 'medium low', 'medium high', 'medium high',\n",
       "        'medium low', 'medium high', 'medium low', 'medium high',\n",
       "        'medium low', 'medium high', 'medium high', 'good', 'good',\n",
       "        'medium high', 'medium low', 'good', 'medium low', 'medium low',\n",
       "        'medium high', 'good', 'medium low', 'medium high', 'medium high',\n",
       "        'medium low', 'medium low', 'good', 'medium high', 'medium high',\n",
       "        'medium low', 'medium low', 'good', 'medium high', 'medium high',\n",
       "        'bad', 'medium low', 'medium low', 'medium low', 'medium high',\n",
       "        'medium high', 'good', 'medium high', 'medium high', 'medium high',\n",
       "        'medium low', 'medium low', 'medium low', 'medium high', 'bad',\n",
       "        'medium high', 'medium low', 'medium low', 'medium high',\n",
       "        'medium high', 'medium high', 'medium high', 'medium high',\n",
       "        'medium high', 'medium low', 'medium low', 'good', 'medium high',\n",
       "        'medium low', 'good', 'medium low', 'medium low', 'medium high',\n",
       "        'medium low', 'good', 'medium low', 'medium high', 'medium high',\n",
       "        'medium low', 'bad', 'medium high', 'medium low', 'medium high',\n",
       "        'good', 'medium low', 'medium high', 'medium high', 'medium low',\n",
       "        'medium low', 'good', 'medium high', 'medium high', 'medium high',\n",
       "        'medium high', 'medium low', 'medium high', 'medium high',\n",
       "        'medium low', 'medium low', 'good', 'medium low'],\n",
       "       dtype='<U11'),\n",
       " array(['medium high', 'medium high', 'good', 'medium high', 'medium high',\n",
       "        'medium low', 'good', 'medium low', 'medium low', 'medium high',\n",
       "        'medium low', 'medium high', 'good', 'medium high', 'medium high',\n",
       "        'medium high', 'medium high', 'medium low', 'medium high',\n",
       "        'medium high', 'medium high', 'medium high', 'medium high', 'good',\n",
       "        'medium low', 'medium high', 'good', 'medium high', 'medium high',\n",
       "        'good', 'medium low', 'good', 'medium low', 'medium high',\n",
       "        'medium high', 'medium high', 'medium high', 'medium high',\n",
       "        'medium high', 'medium high', 'medium high', 'medium high',\n",
       "        'medium low', 'good', 'medium high', 'medium low', 'medium low',\n",
       "        'medium low', 'medium low', 'medium low', 'medium high',\n",
       "        'medium high', 'medium high', 'medium high', 'medium low',\n",
       "        'medium low', 'medium high', 'medium low', 'medium high',\n",
       "        'medium low', 'medium high', 'medium low', 'medium low', 'good',\n",
       "        'medium low', 'medium high', 'medium high', 'medium low',\n",
       "        'medium high', 'medium low', 'medium low', 'good', 'medium high',\n",
       "        'medium low', 'medium high', 'medium low', 'medium low',\n",
       "        'medium low', 'good', 'medium high', 'medium low', 'medium high',\n",
       "        'good', 'medium low', 'good', 'bad', 'medium high', 'medium high',\n",
       "        'medium high', 'medium high', 'medium high', 'medium low', 'good',\n",
       "        'medium low', 'medium high', 'good', 'bad', 'medium high',\n",
       "        'medium high', 'medium high', 'medium high', 'good', 'medium low',\n",
       "        'good', 'good', 'medium high', 'medium high', 'medium low',\n",
       "        'medium high', 'medium high', 'medium low', 'medium high',\n",
       "        'medium low', 'medium low', 'medium high', 'medium low',\n",
       "        'medium high', 'medium low', 'medium high', 'medium high',\n",
       "        'medium high', 'medium low', 'medium high', 'medium low',\n",
       "        'medium low', 'good', 'medium high', 'medium low', 'medium high',\n",
       "        'bad', 'medium low', 'medium low', 'medium high', 'medium low',\n",
       "        'medium low', 'medium high', 'medium low', 'medium low', 'bad',\n",
       "        'bad', 'good', 'medium low', 'medium high', 'medium high',\n",
       "        'medium low', 'medium high', 'medium high', 'medium low', 'good',\n",
       "        'medium low', 'medium high', 'medium low', 'medium high',\n",
       "        'medium high', 'bad', 'medium low', 'bad', 'medium high', 'good',\n",
       "        'medium high', 'medium high', 'medium low', 'medium low',\n",
       "        'medium high', 'good', 'good', 'medium low', 'medium low',\n",
       "        'medium high', 'medium high', 'medium high', 'good', 'medium high',\n",
       "        'medium high', 'medium low', 'medium high', 'good', 'medium high',\n",
       "        'good', 'medium low', 'good', 'good', 'medium low', 'medium high',\n",
       "        'good', 'medium high', 'medium low', 'medium low', 'medium low',\n",
       "        'medium high', 'medium low', 'medium low', 'medium high',\n",
       "        'medium high', 'medium high', 'medium low', 'medium low',\n",
       "        'medium high', 'medium high', 'medium high', 'medium high',\n",
       "        'medium high', 'medium high', 'good', 'medium low', 'good',\n",
       "        'medium low', 'medium high', 'medium low', 'medium low',\n",
       "        'medium low', 'medium low', 'medium high', 'medium high',\n",
       "        'medium low', 'medium high', 'medium high', 'medium high',\n",
       "        'medium high', 'medium high', 'medium high', 'medium low',\n",
       "        'medium high', 'medium low', 'medium low', 'medium high',\n",
       "        'medium low', 'medium low', 'good', 'medium low', 'medium low',\n",
       "        'medium low', 'medium high', 'medium high', 'medium high',\n",
       "        'medium high', 'medium low', 'medium high', 'medium low',\n",
       "        'medium low', 'medium high', 'medium low', 'medium low', 'good',\n",
       "        'medium high', 'medium low', 'medium high', 'medium low',\n",
       "        'medium low', 'medium low', 'medium low', 'medium high',\n",
       "        'medium high', 'good', 'medium high', 'medium low', 'medium high',\n",
       "        'good', 'medium high', 'medium high', 'medium low', 'medium high',\n",
       "        'medium low', 'medium low', 'medium low', 'medium high',\n",
       "        'medium high', 'medium low', 'medium low', 'medium low',\n",
       "        'medium high', 'medium low', 'medium high', 'medium low', 'good',\n",
       "        'medium high', 'good', 'medium high', 'medium high', 'medium low',\n",
       "        'medium high', 'medium low', 'medium high', 'medium low',\n",
       "        'medium high', 'medium low', 'medium low', 'medium low', 'good',\n",
       "        'medium high', 'medium high', 'medium low', 'medium low',\n",
       "        'medium low', 'medium low', 'medium low', 'medium low',\n",
       "        'medium low', 'medium low', 'medium high', 'good', 'medium high',\n",
       "        'medium low', 'medium low', 'good', 'medium low', 'medium low',\n",
       "        'medium low', 'good', 'medium high', 'medium high', 'medium high',\n",
       "        'medium low', 'medium low', 'medium low', 'good', 'medium high',\n",
       "        'medium high', 'medium high', 'medium high', 'medium low',\n",
       "        'medium low', 'medium low', 'medium low', 'medium high', 'good',\n",
       "        'medium low', 'medium high', 'medium high', 'medium low', 'good',\n",
       "        'medium high', 'medium low', 'good', 'medium low', 'medium low',\n",
       "        'good', 'good', 'good', 'medium low', 'medium low', 'medium low',\n",
       "        'medium high', 'medium low', 'medium high', 'medium high',\n",
       "        'medium low', 'medium high', 'medium high', 'medium high',\n",
       "        'medium low', 'medium high', 'medium high', 'medium high',\n",
       "        'medium high', 'medium low', 'medium low', 'medium low', 'good',\n",
       "        'medium high', 'medium high', 'medium high', 'medium low',\n",
       "        'medium high', 'medium low', 'good', 'medium high', 'medium low',\n",
       "        'good', 'medium high', 'medium high', 'medium low', 'medium low',\n",
       "        'medium high', 'medium high', 'medium high', 'good', 'medium low',\n",
       "        'medium high', 'medium high', 'medium high', 'medium high', 'good',\n",
       "        'medium low', 'medium high', 'medium high', 'medium high',\n",
       "        'medium low', 'medium high', 'medium high', 'medium high',\n",
       "        'medium high', 'medium high', 'medium high', 'medium high',\n",
       "        'medium high', 'medium high', 'medium low', 'medium high',\n",
       "        'medium low'],\n",
       "       dtype='<U11'))"
      ]
     },
     "execution_count": 168,
     "metadata": {},
     "output_type": "execute_result"
    }
   ],
   "source": [
    "display(HTML('<h3>For White Wine: </h3>'))\n",
    "y_test_white_dt, y_score_white_dt = produce_report('DT for white wine (2 classes)', \n",
    "                                       DecisionTreeClassifier(max_features='log2', \n",
    "                                    criterion='entropy'), white_instances, white_two_classes)\n",
    "produce_report('DT for white wine (3 classes)', DecisionTreeClassifier(max_features=None, \n",
    "                                      criterion='entropy'), white_instances, white_three_classes)\n",
    "produce_report('DT for white wine (4 classes)', DecisionTreeClassifier(max_features='sqrt', \n",
    "                                      criterion='entropy'), white_instances, white_four_classes)\n",
    "display(HTML('<h3>For Red Wine: </h3>'))\n",
    "y_test_red_dt, y_score_red_dt = produce_report('DT for red wine (2 classes)', \n",
    "                                       DecisionTreeClassifier(max_features=None, \n",
    "                                      criterion='entropy'), red_instances, red_two_classes)\n",
    "produce_report('DT for red wine (3 classes)', DecisionTreeClassifier(max_features='sqrt', \n",
    "                                      criterion='gini'), red_instances, red_three_classes)\n",
    "produce_report('DT for red wine (4 classes)', DecisionTreeClassifier(max_features=None, \n",
    "                                      criterion='gini'), red_instances, red_four_classes)\n"
   ]
  },
  {
   "cell_type": "markdown",
   "metadata": {},
   "source": [
    "## Random Forest Results"
   ]
  },
  {
   "cell_type": "code",
   "execution_count": 169,
   "metadata": {},
   "outputs": [
    {
     "data": {
      "text/html": [
       "<h3>For White Wine: </h3>"
      ],
      "text/plain": [
       "<IPython.core.display.HTML object>"
      ]
     },
     "metadata": {},
     "output_type": "display_data"
    },
    {
     "data": {
      "text/html": [
       "<h4>RF for white wine (2 classes)'s accuracy: </h4>"
      ],
      "text/plain": [
       "<IPython.core.display.HTML object>"
      ]
     },
     "metadata": {},
     "output_type": "display_data"
    },
    {
     "name": "stdout",
     "output_type": "stream",
     "text": [
      "0.822857142857\n"
     ]
    },
    {
     "data": {
      "text/html": [
       "<strong>Report</strong>:\n"
      ],
      "text/plain": [
       "<IPython.core.display.HTML object>"
      ]
     },
     "metadata": {},
     "output_type": "display_data"
    },
    {
     "name": "stdout",
     "output_type": "stream",
     "text": [
      "             precision    recall  f1-score   support\n",
      "\n",
      "          0       0.75      0.74      0.75       430\n",
      "          1       0.86      0.87      0.86       795\n",
      "\n",
      "avg / total       0.82      0.82      0.82      1225\n",
      " \n",
      "\n"
     ]
    },
    {
     "data": {
      "text/html": [
       "<h4>RF for white wine (3 classes)'s accuracy: </h4>"
      ],
      "text/plain": [
       "<IPython.core.display.HTML object>"
      ]
     },
     "metadata": {},
     "output_type": "display_data"
    },
    {
     "name": "stdout",
     "output_type": "stream",
     "text": [
      "0.815510204082\n"
     ]
    },
    {
     "data": {
      "text/html": [
       "<strong>Report</strong>:\n"
      ],
      "text/plain": [
       "<IPython.core.display.HTML object>"
      ]
     },
     "metadata": {},
     "output_type": "display_data"
    },
    {
     "name": "stdout",
     "output_type": "stream",
     "text": [
      "             precision    recall  f1-score   support\n",
      "\n",
      "        bad       0.50      0.17      0.25        41\n",
      "       good       0.70      0.62      0.65       286\n",
      "     medium       0.85      0.91      0.88       898\n",
      "\n",
      "avg / total       0.80      0.82      0.81      1225\n",
      " \n",
      "\n"
     ]
    },
    {
     "data": {
      "text/html": [
       "<h4>RF for white wine (4 classes)'s accuracy: </h4>"
      ],
      "text/plain": [
       "<IPython.core.display.HTML object>"
      ]
     },
     "metadata": {},
     "output_type": "display_data"
    },
    {
     "name": "stdout",
     "output_type": "stream",
     "text": [
      "0.619591836735\n"
     ]
    },
    {
     "data": {
      "text/html": [
       "<strong>Report</strong>:\n"
      ],
      "text/plain": [
       "<IPython.core.display.HTML object>"
      ]
     },
     "metadata": {},
     "output_type": "display_data"
    },
    {
     "name": "stdout",
     "output_type": "stream",
     "text": [
      "             precision    recall  f1-score   support\n",
      "\n",
      "        bad       0.23      0.17      0.20        40\n",
      "       good       0.62      0.62      0.62       276\n",
      "medium high       0.62      0.65      0.63       527\n",
      " medium low       0.65      0.63      0.64       382\n",
      "\n",
      "avg / total       0.62      0.62      0.62      1225\n",
      " \n",
      "\n"
     ]
    },
    {
     "data": {
      "text/html": [
       "<h3>For Red Wine: </h3>"
      ],
      "text/plain": [
       "<IPython.core.display.HTML object>"
      ]
     },
     "metadata": {},
     "output_type": "display_data"
    },
    {
     "data": {
      "text/html": [
       "<h4>RF for red wine (2 classes)'s accuracy: </h4>"
      ],
      "text/plain": [
       "<IPython.core.display.HTML object>"
      ]
     },
     "metadata": {},
     "output_type": "display_data"
    },
    {
     "name": "stdout",
     "output_type": "stream",
     "text": [
      "0.835\n"
     ]
    },
    {
     "data": {
      "text/html": [
       "<strong>Report</strong>:\n"
      ],
      "text/plain": [
       "<IPython.core.display.HTML object>"
      ]
     },
     "metadata": {},
     "output_type": "display_data"
    },
    {
     "name": "stdout",
     "output_type": "stream",
     "text": [
      "             precision    recall  f1-score   support\n",
      "\n",
      "          0       0.78      0.87      0.82       178\n",
      "          1       0.89      0.81      0.84       222\n",
      "\n",
      "avg / total       0.84      0.83      0.84       400\n",
      " \n",
      "\n"
     ]
    },
    {
     "data": {
      "text/html": [
       "<h4>RF for red wine (3 classes)'s accuracy: </h4>"
      ],
      "text/plain": [
       "<IPython.core.display.HTML object>"
      ]
     },
     "metadata": {},
     "output_type": "display_data"
    },
    {
     "name": "stdout",
     "output_type": "stream",
     "text": [
      "0.8825\n"
     ]
    },
    {
     "data": {
      "text/html": [
       "<strong>Report</strong>:\n"
      ],
      "text/plain": [
       "<IPython.core.display.HTML object>"
      ]
     },
     "metadata": {},
     "output_type": "display_data"
    },
    {
     "name": "stdout",
     "output_type": "stream",
     "text": [
      "             precision    recall  f1-score   support\n",
      "\n",
      "        bad       0.60      0.21      0.32        14\n",
      "       good       0.89      0.51      0.65        61\n",
      "     medium       0.89      0.98      0.93       325\n",
      "\n",
      "avg / total       0.88      0.88      0.87       400\n",
      " \n",
      "\n"
     ]
    },
    {
     "data": {
      "text/html": [
       "<h4>RF for red wine (4 classes)'s accuracy: </h4>"
      ],
      "text/plain": [
       "<IPython.core.display.HTML object>"
      ]
     },
     "metadata": {},
     "output_type": "display_data"
    },
    {
     "name": "stdout",
     "output_type": "stream",
     "text": [
      "0.6625\n"
     ]
    },
    {
     "data": {
      "text/html": [
       "<strong>Report</strong>:\n"
      ],
      "text/plain": [
       "<IPython.core.display.HTML object>"
      ]
     },
     "metadata": {},
     "output_type": "display_data"
    },
    {
     "name": "stdout",
     "output_type": "stream",
     "text": [
      "             precision    recall  f1-score   support\n",
      "\n",
      "        bad       0.60      0.16      0.25        19\n",
      "       good       0.60      0.56      0.58        54\n",
      "medium high       0.67      0.65      0.66       174\n",
      " medium low       0.67      0.78      0.72       153\n",
      "\n",
      "avg / total       0.66      0.66      0.65       400\n",
      " \n",
      "\n"
     ]
    },
    {
     "data": {
      "text/plain": [
       "(array(['medium low', 'medium high', 'good', 'bad', 'medium low',\n",
       "        'medium high', 'medium low', 'medium high', 'medium low',\n",
       "        'medium low', 'good', 'medium high', 'medium high', 'medium high',\n",
       "        'medium high', 'medium low', 'medium high', 'medium high',\n",
       "        'medium low', 'medium high', 'medium low', 'bad', 'medium high',\n",
       "        'medium low', 'medium low', 'medium high', 'medium low', 'bad',\n",
       "        'medium high', 'medium high', 'medium low', 'good', 'medium high',\n",
       "        'medium high', 'medium low', 'medium high', 'medium low',\n",
       "        'medium low', 'good', 'medium low', 'medium high', 'medium low',\n",
       "        'medium low', 'good', 'medium high', 'medium high', 'medium low',\n",
       "        'good', 'medium high', 'good', 'medium high', 'medium low',\n",
       "        'medium low', 'good', 'medium high', 'medium high', 'medium low',\n",
       "        'medium low', 'medium low', 'medium high', 'good', 'medium high',\n",
       "        'medium low', 'medium high', 'medium high', 'medium high', 'bad',\n",
       "        'medium high', 'medium low', 'medium high', 'medium low', 'good',\n",
       "        'medium high', 'medium high', 'medium low', 'medium low',\n",
       "        'medium low', 'medium high', 'medium high', 'medium low',\n",
       "        'medium high', 'medium low', 'medium low', 'medium low',\n",
       "        'medium low', 'medium low', 'medium high', 'good', 'good',\n",
       "        'medium high', 'medium high', 'medium high', 'medium high',\n",
       "        'medium low', 'medium low', 'medium low', 'medium low',\n",
       "        'medium low', 'medium high', 'medium high', 'medium high', 'good',\n",
       "        'good', 'bad', 'good', 'medium high', 'medium high', 'medium low',\n",
       "        'medium high', 'medium high', 'medium high', 'medium high',\n",
       "        'medium low', 'medium high', 'medium high', 'medium low',\n",
       "        'medium low', 'medium low', 'medium low', 'medium high', 'bad',\n",
       "        'medium low', 'medium high', 'medium low', 'good', 'good',\n",
       "        'medium low', 'medium low', 'good', 'medium low', 'medium low',\n",
       "        'medium low', 'medium high', 'medium low', 'medium low',\n",
       "        'medium low', 'medium high', 'good', 'medium high', 'medium high',\n",
       "        'good', 'good', 'medium high', 'medium low', 'medium high',\n",
       "        'medium high', 'medium high', 'medium low', 'medium high',\n",
       "        'medium high', 'medium high', 'medium low', 'medium low',\n",
       "        'medium low', 'medium high', 'good', 'bad', 'medium low',\n",
       "        'medium low', 'medium high', 'medium low', 'medium high',\n",
       "        'medium high', 'medium low', 'medium high', 'medium high',\n",
       "        'medium low', 'medium high', 'medium high', 'medium low',\n",
       "        'medium low', 'good', 'medium high', 'medium low', 'medium low',\n",
       "        'medium high', 'medium high', 'medium low', 'medium high', 'good',\n",
       "        'good', 'medium low', 'good', 'medium low', 'medium low',\n",
       "        'medium high', 'medium high', 'good', 'medium low', 'good',\n",
       "        'medium high', 'medium high', 'medium low', 'medium high',\n",
       "        'medium high', 'medium high', 'medium low', 'bad', 'bad',\n",
       "        'medium low', 'bad', 'medium high', 'medium high', 'medium high',\n",
       "        'medium high', 'medium low', 'good', 'bad', 'medium low',\n",
       "        'medium low', 'medium high', 'medium high', 'medium high', 'good',\n",
       "        'medium high', 'medium low', 'medium high', 'medium high',\n",
       "        'medium high', 'medium high', 'medium high', 'medium low',\n",
       "        'medium high', 'medium low', 'medium low', 'medium high',\n",
       "        'medium low', 'medium high', 'medium low', 'medium high',\n",
       "        'medium high', 'bad', 'medium low', 'medium low', 'medium low',\n",
       "        'good', 'medium low', 'good', 'medium low', 'medium high',\n",
       "        'medium low', 'medium high', 'medium high', 'bad', 'medium high',\n",
       "        'bad', 'medium low', 'medium high', 'good', 'medium high',\n",
       "        'medium low', 'medium low', 'medium high', 'medium high',\n",
       "        'medium low', 'medium low', 'medium low', 'medium high',\n",
       "        'medium low', 'medium low', 'bad', 'medium low', 'medium low',\n",
       "        'medium high', 'medium high', 'medium high', 'medium low',\n",
       "        'medium low', 'medium high', 'medium high', 'good', 'medium low',\n",
       "        'medium high', 'medium high', 'medium high', 'medium high', 'bad',\n",
       "        'medium high', 'medium low', 'good', 'medium high', 'medium low',\n",
       "        'medium high', 'medium low', 'medium high', 'medium low',\n",
       "        'medium high', 'good', 'medium low', 'medium high', 'medium high',\n",
       "        'good', 'medium low', 'medium low', 'medium low', 'medium low',\n",
       "        'medium high', 'medium low', 'medium high', 'good', 'good',\n",
       "        'medium high', 'medium low', 'medium low', 'medium high',\n",
       "        'medium low', 'medium high', 'medium high', 'medium high',\n",
       "        'medium high', 'medium high', 'medium low', 'bad', 'medium low',\n",
       "        'medium high', 'medium high', 'medium high', 'medium high',\n",
       "        'medium high', 'good', 'medium high', 'medium low', 'medium high',\n",
       "        'medium high', 'medium low', 'medium high', 'good', 'good',\n",
       "        'medium high', 'medium high', 'good', 'good', 'good', 'medium high',\n",
       "        'medium high', 'medium low', 'medium low', 'medium high',\n",
       "        'medium low', 'medium high', 'good', 'medium high', 'medium high',\n",
       "        'good', 'bad', 'medium high', 'medium low', 'medium low',\n",
       "        'medium high', 'medium high', 'medium high', 'medium high',\n",
       "        'medium low', 'medium low', 'medium high', 'medium high',\n",
       "        'medium high', 'medium low', 'medium low', 'medium low',\n",
       "        'medium low', 'medium high', 'medium high', 'good', 'good',\n",
       "        'medium low', 'good', 'medium high', 'medium low', 'medium low',\n",
       "        'medium high', 'good', 'good', 'medium low', 'good', 'good',\n",
       "        'medium low', 'medium high', 'medium high', 'medium low',\n",
       "        'medium high', 'medium low', 'medium low', 'medium low', 'bad',\n",
       "        'medium low', 'medium low', 'medium high', 'medium low',\n",
       "        'medium low', 'medium low', 'medium high', 'medium high',\n",
       "        'medium low', 'medium low', 'medium high', 'medium low',\n",
       "        'medium high', 'medium low', 'medium high'],\n",
       "       dtype='<U11'),\n",
       " array(['medium low', 'medium high', 'medium high', 'bad', 'medium low',\n",
       "        'medium high', 'medium low', 'medium high', 'medium low',\n",
       "        'medium low', 'good', 'medium high', 'good', 'medium high', 'good',\n",
       "        'medium low', 'good', 'medium high', 'medium low', 'medium high',\n",
       "        'medium high', 'medium high', 'medium high', 'medium low',\n",
       "        'medium low', 'medium high', 'medium low', 'medium low',\n",
       "        'medium high', 'medium high', 'medium low', 'good', 'medium high',\n",
       "        'medium high', 'medium low', 'medium high', 'medium high',\n",
       "        'medium low', 'medium high', 'medium low', 'medium high',\n",
       "        'medium high', 'medium low', 'good', 'good', 'medium high',\n",
       "        'medium high', 'medium low', 'medium high', 'good', 'medium high',\n",
       "        'medium low', 'medium low', 'good', 'medium high', 'medium low',\n",
       "        'medium low', 'medium high', 'medium low', 'medium high',\n",
       "        'medium high', 'medium low', 'medium low', 'medium high',\n",
       "        'medium high', 'medium low', 'medium high', 'medium low',\n",
       "        'medium high', 'medium high', 'medium low', 'good', 'medium high',\n",
       "        'good', 'medium low', 'medium high', 'medium low', 'medium high',\n",
       "        'medium high', 'medium high', 'good', 'medium low', 'medium high',\n",
       "        'medium high', 'medium high', 'medium low', 'medium low', 'good',\n",
       "        'medium high', 'good', 'medium high', 'medium low', 'good',\n",
       "        'medium low', 'medium low', 'medium low', 'medium low',\n",
       "        'medium low', 'medium high', 'medium high', 'medium high',\n",
       "        'medium high', 'good', 'medium low', 'medium low', 'medium high',\n",
       "        'medium low', 'medium low', 'medium high', 'medium low',\n",
       "        'medium high', 'medium high', 'medium low', 'medium high',\n",
       "        'medium high', 'medium low', 'medium low', 'medium high',\n",
       "        'medium low', 'medium high', 'medium low', 'medium low',\n",
       "        'medium high', 'medium low', 'medium high', 'good', 'medium low',\n",
       "        'medium high', 'good', 'medium low', 'medium low', 'medium low',\n",
       "        'medium high', 'medium low', 'medium low', 'medium low',\n",
       "        'medium high', 'good', 'good', 'medium high', 'medium high',\n",
       "        'medium low', 'medium high', 'medium low', 'good', 'medium high',\n",
       "        'medium low', 'medium low', 'medium high', 'medium low',\n",
       "        'medium high', 'medium low', 'medium low', 'medium high', 'good',\n",
       "        'medium high', 'medium low', 'medium low', 'medium high',\n",
       "        'medium high', 'medium low', 'medium high', 'medium high',\n",
       "        'medium low', 'medium high', 'medium high', 'medium low',\n",
       "        'medium high', 'medium high', 'medium low', 'medium low',\n",
       "        'medium high', 'medium high', 'medium low', 'medium low',\n",
       "        'medium high', 'medium high', 'medium low', 'medium low',\n",
       "        'medium high', 'good', 'medium low', 'good', 'medium low',\n",
       "        'medium low', 'medium high', 'medium high', 'good', 'medium high',\n",
       "        'good', 'medium high', 'medium high', 'medium low', 'medium high',\n",
       "        'medium low', 'medium high', 'medium low', 'medium high',\n",
       "        'medium high', 'medium low', 'medium low', 'medium high',\n",
       "        'medium high', 'medium high', 'medium low', 'medium low',\n",
       "        'medium high', 'medium low', 'medium low', 'medium low',\n",
       "        'medium high', 'medium high', 'medium high', 'medium high',\n",
       "        'medium high', 'medium low', 'medium high', 'medium low',\n",
       "        'medium low', 'medium low', 'medium high', 'medium low',\n",
       "        'medium high', 'medium high', 'medium high', 'medium high',\n",
       "        'medium low', 'medium high', 'medium low', 'medium high',\n",
       "        'medium low', 'medium low', 'medium high', 'medium low', 'bad',\n",
       "        'medium high', 'medium high', 'medium high', 'medium low',\n",
       "        'medium low', 'medium low', 'medium low', 'good', 'medium low',\n",
       "        'medium high', 'bad', 'medium low', 'medium low', 'medium high',\n",
       "        'medium high', 'medium high', 'medium low', 'medium high',\n",
       "        'medium high', 'medium high', 'medium low', 'medium low',\n",
       "        'medium high', 'medium low', 'medium low', 'bad', 'medium high',\n",
       "        'medium low', 'medium high', 'medium high', 'medium low',\n",
       "        'medium low', 'good', 'medium high', 'good', 'medium high',\n",
       "        'medium low', 'good', 'medium low', 'medium low', 'medium high',\n",
       "        'medium high', 'medium low', 'medium low', 'good', 'medium low',\n",
       "        'medium low', 'medium high', 'medium low', 'medium low',\n",
       "        'medium low', 'medium high', 'medium high', 'medium low',\n",
       "        'medium high', 'medium low', 'good', 'medium low', 'medium low',\n",
       "        'medium low', 'good', 'medium high', 'medium low', 'medium high',\n",
       "        'good', 'good', 'medium low', 'medium low', 'medium high',\n",
       "        'medium high', 'medium low', 'medium high', 'medium high',\n",
       "        'medium high', 'medium high', 'medium low', 'medium low',\n",
       "        'medium low', 'medium low', 'medium low', 'good', 'medium high',\n",
       "        'medium high', 'medium high', 'good', 'medium high', 'medium low',\n",
       "        'medium high', 'medium high', 'bad', 'medium low', 'good', 'good',\n",
       "        'medium high', 'medium high', 'good', 'good', 'good', 'medium high',\n",
       "        'medium high', 'medium low', 'medium low', 'medium high',\n",
       "        'medium high', 'medium low', 'good', 'medium high', 'good',\n",
       "        'medium high', 'medium low', 'medium low', 'medium low',\n",
       "        'medium low', 'medium low', 'good', 'medium high', 'medium high',\n",
       "        'medium low', 'medium low', 'medium low', 'medium low',\n",
       "        'medium high', 'medium low', 'medium low', 'medium low',\n",
       "        'medium low', 'medium low', 'medium high', 'medium high',\n",
       "        'medium high', 'medium low', 'good', 'medium low', 'medium low',\n",
       "        'medium low', 'medium high', 'good', 'good', 'medium low', 'good',\n",
       "        'medium low', 'medium low', 'medium high', 'good', 'medium high',\n",
       "        'medium low', 'medium low', 'medium low', 'medium low',\n",
       "        'medium low', 'medium high', 'medium high', 'medium low',\n",
       "        'medium low', 'medium low', 'medium low', 'medium low',\n",
       "        'medium high', 'medium low', 'medium high', 'medium low',\n",
       "        'medium high', 'medium low', 'medium low', 'medium high'],\n",
       "       dtype='<U11'))"
      ]
     },
     "execution_count": 169,
     "metadata": {},
     "output_type": "execute_result"
    }
   ],
   "source": [
    "display(HTML('<h3>For White Wine: </h3>'))\n",
    "y_test_white_rf, y_score_white_rf = produce_report('RF for white wine (2 classes)', \n",
    "                                       RandomForestClassifier(max_features='sqrt', \n",
    "                                      criterion='entropy'), white_instances, white_two_classes)\n",
    "produce_report('RF for white wine (3 classes)', RandomForestClassifier(max_features='log2', \n",
    "                                      criterion='gini'), white_instances, white_three_classes)\n",
    "produce_report('RF for white wine (4 classes)', DecisionTreeClassifier(max_features='log2', \n",
    "                                      criterion='entropy'), white_instances, white_four_classes)\n",
    "display(HTML('<h3>For Red Wine: </h3>'))\n",
    "y_test_red_rf, y_score_red_rf = produce_report('RF for red wine (2 classes)', \n",
    "                                       RandomForestClassifier(max_features='log2', \n",
    "                                      criterion='entropy'), red_instances, red_two_classes)\n",
    "produce_report('RF for red wine (3 classes)', RandomForestClassifier(max_features='sqrt', \n",
    "                                      criterion='gini'), red_instances, red_three_classes)\n",
    "produce_report('RF for red wine (4 classes)', RandomForestClassifier(max_features='log2', \n",
    "                                      criterion='gini'), red_instances, red_four_classes)\n"
   ]
  },
  {
   "cell_type": "markdown",
   "metadata": {},
   "source": [
    "## ROC Curve for Decision Tree"
   ]
  },
  {
   "cell_type": "code",
   "execution_count": 170,
   "metadata": {},
   "outputs": [],
   "source": [
    "# Compute ROC curve and ROC area for each class\n",
    "def draw_curve(title, y_test, y_preds):    \n",
    "    fpr, tpr, thresholds = roc_curve(y_test, y_preds)\n",
    "    roc_auc = auc(fpr, tpr)\n",
    "    plt.figure()\n",
    "    plt.plot(fpr, tpr, color='darkorange',\n",
    "             label='AUC = %0.2f' % roc_auc)\n",
    "    plt.plot([0, 1], [0, 1], color='navy', lw=2, linestyle='--')\n",
    "    plt.xlim([0.0, 1.0])\n",
    "    plt.ylim([0.0, 1.05])\n",
    "    plt.xlabel('False Positive Rate')\n",
    "    plt.ylabel('True Positive Rate')\n",
    "    plt.title(title)\n",
    "    plt.legend(loc=\"lower right\")\n",
    "    plt.show()"
   ]
  },
  {
   "cell_type": "code",
   "execution_count": 171,
   "metadata": {},
   "outputs": [
    {
     "data": {
      "image/png": "[encoded data removed]",
      "text/plain": [
       "<matplotlib.figure.Figure at 0x2553d581390>"
      ]
     },
     "metadata": {},
     "output_type": "display_data"
    },
    {
     "data": {
      "image/png": "[encoded data removed]",
      "text/plain": [
       "<matplotlib.figure.Figure at 0x2553d581470>"
      ]
     },
     "metadata": {},
     "output_type": "display_data"
    }
   ],
   "source": [
    "draw_curve('ROC for White wine', y_test_white_dt, y_score_white_dt)\n",
    "draw_curve('ROC for Red wine', y_test_red_dt, y_score_red_dt)"
   ]
  },
  {
   "cell_type": "markdown",
   "metadata": {},
   "source": [
    "## ROC Curve for Random Forest"
   ]
  },
  {
   "cell_type": "code",
   "execution_count": 172,
   "metadata": {},
   "outputs": [
    {
     "data": {
      "image/png": "[encoded data removed]",
      "text/plain": [
       "<matplotlib.figure.Figure at 0x2553d446978>"
      ]
     },
     "metadata": {},
     "output_type": "display_data"
    },
    {
     "data": {
      "image/png": "[encoded data removed]",
      "text/plain": [
       "<matplotlib.figure.Figure at 0x2553d1eeeb8>"
      ]
     },
     "metadata": {},
     "output_type": "display_data"
    }
   ],
   "source": [
    "draw_curve(\"ROC for White wine\", y_test_white_rf, y_score_white_rf)\n",
    "draw_curve(\"ROC for Red wine\", y_test_red_rf, y_score_red_rf)"
   ]
  },
  {
   "cell_type": "code",
   "execution_count": null,
   "metadata": {
    "collapsed": true
   },
   "outputs": [],
   "source": []
  }
 ],
 "metadata": {
  "kernelspec": {
   "display_name": "Python [conda root]",
   "language": "python",
   "name": "conda-root-py"
  },
  "language_info": {
   "codemirror_mode": {
    "name": "ipython",
    "version": 3
   },
   "file_extension": ".py",
   "mimetype": "text/x-python",
   "name": "python",
   "nbconvert_exporter": "python",
   "pygments_lexer": "ipython3",
   "version": "3.6.1"
  }
 },
 "nbformat": 4,
 "nbformat_minor": 2
}
