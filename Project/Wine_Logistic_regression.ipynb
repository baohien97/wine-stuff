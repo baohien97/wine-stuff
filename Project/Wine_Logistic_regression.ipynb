{
 "cells": [
  {
   "cell_type": "markdown",
   "metadata": {},
   "source": [
    "# Wine Classification\n",
    "## Prediction of wine quality with the use of logistic regression"
   ]
  },
  {
   "cell_type": "code",
   "execution_count": 94,
   "metadata": {
    "collapsed": false
   },
   "outputs": [
    {
     "name": "stdout",
     "output_type": "stream",
     "text": [
      "Populating the interactive namespace from numpy and matplotlib\n"
     ]
    }
   ],
   "source": [
    "%pylab inline\n",
    "\n",
    "import matplotlib.pyplot as plt\n",
    "import csv\n",
    "import numpy as np\n",
    "import scipy.stats as stats\n",
    "from IPython.core.display import display, HTML\n",
    "import pandas as pd\n",
    "from collections import OrderedDict\n",
    "from sklearn.model_selection import train_test_split # to split in train and test set\n",
    "from sklearn.model_selection import GridSearchCV\n",
    "from sklearn.linear_model import LogisticRegression  # logistic regression classifier\n",
    "from sklearn.metrics import accuracy_score, roc_curve, auc, confusion_matrix, classification_report\n",
    "\n",
    "def preprocess(file_name):\n",
    "    results = []\n",
    "    with open(file_name) as csvfile:\n",
    "        wine_reader = csv.reader(csvfile, dialect=\"excel\", delimiter=';')\n",
    "        for row in wine_reader:\n",
    "            results.append(row)\n",
    "    name_features = results[0]\n",
    "    #print(name_features)\n",
    "    parsed_results = []\n",
    "    for row in results[1:]:\n",
    "        new_row = []\n",
    "        for num in row:\n",
    "            new_row.append(float(num))\n",
    "        parsed_results.append(new_row)\n",
    "    parsed_results = np.array(parsed_results)\n",
    "    n_instances = parsed_results.shape[0]\n",
    "    n_features = parsed_results.shape[1] - 1\n",
    "    labels = parsed_results[:, n_features]\n",
    "    instances = parsed_results[:, : n_features]\n",
    "    return instances, labels\n",
    "\n",
    "white_instances, white_labels = preprocess('winequality-white.csv')\n",
    "red_instances, red_labels = preprocess('winequality-red.csv')\n",
    "\n",
    "white_two_classes = np.array([0 if num <6 else 1 for num in white_labels])\n",
    "red_two_classes = np.array([0 if num <6 else 1 for num in red_labels])\n",
    "\n",
    "def three_classes(wine_labels):\n",
    "    transformed = []\n",
    "    for score in wine_labels:\n",
    "        if score <= 4:\n",
    "            transformed.append(\"bad\")\n",
    "        elif score <= 6:\n",
    "            transformed.append(\"medium\")\n",
    "        else:\n",
    "            transformed.append(\"good\")\n",
    "    return np.array(transformed)\n",
    "\n",
    "white_three_classes = three_classes(white_labels)\n",
    "red_three_classes = three_classes(red_labels)\n",
    "\n",
    "def four_classes(wine_labels):\n",
    "    transformed = []\n",
    "    for score in wine_labels:\n",
    "        if score <= 4:\n",
    "            transformed.append(\"bad\")\n",
    "        elif score == 5:\n",
    "            transformed.append(\"medium low\")\n",
    "        elif score == 6:\n",
    "            transformed.append(\"medium high\")\n",
    "        else:\n",
    "            transformed.append(\"good\")\n",
    "    return np.array(transformed)\n",
    "\n",
    "white_four_classes = four_classes(white_labels)\n",
    "red_four_classes = four_classes(red_labels)"
   ]
  },
  {
   "cell_type": "code",
   "execution_count": 64,
   "metadata": {
    "collapsed": false
   },
   "outputs": [],
   "source": [
    "lr = LogisticRegression()\n",
    "paramslg = {'C': np.linspace(0.1, 1, 20), 'solver' : ['newton-cg', 'lbfgs', 'liblinear']}\n",
    "\n",
    "def tune(params, clf, instances, labels):\n",
    "    x_train, x_test, y_train, y_test = train_test_split(instances, labels)\n",
    "    gs = GridSearchCV(clf, param_grid=params, cv=5)\n",
    "    gs.fit(x_train, y_train)\n",
    "    return gs.best_params_\n",
    "\n",
    "par_w2 = tune(paramslg, lr, white_instances, white_two_classes)\n",
    "par_w3 = tune(paramslg, lr, white_instances, white_three_classes)\n",
    "par_w4 = tune(paramslg, lr, white_instances, white_four_classes)\n",
    "\n",
    "par_r2 = tune(paramslg, lr, red_instances, red_two_classes)\n",
    "par_r3 = tune(paramslg, lr, red_instances, red_three_classes)\n",
    "par_r4 = tune(paramslg, lr, red_instances, red_four_classes)\n",
    "\n"
   ]
  },
  {
   "cell_type": "code",
   "execution_count": 95,
   "metadata": {
    "collapsed": false
   },
   "outputs": [
    {
     "data": {
      "text/html": [
       "<h3>Logistic Regression's results of tuning</h3>"
      ],
      "text/plain": [
       "<IPython.core.display.HTML object>"
      ]
     },
     "metadata": {},
     "output_type": "display_data"
    },
    {
     "data": {
      "text/html": [
       "<h4>White Wine</h4>"
      ],
      "text/plain": [
       "<IPython.core.display.HTML object>"
      ]
     },
     "metadata": {},
     "output_type": "display_data"
    },
    {
     "name": "stdout",
     "output_type": "stream",
     "text": [
      "  Classes         C     solver\n",
      "0       2  1.000000  liblinear\n",
      "1       3  0.810526  newton-cg\n",
      "2       4  0.952632  newton-cg\n"
     ]
    },
    {
     "data": {
      "text/html": [
       "<h4>Red Wine</h4>"
      ],
      "text/plain": [
       "<IPython.core.display.HTML object>"
      ]
     },
     "metadata": {},
     "output_type": "display_data"
    },
    {
     "name": "stdout",
     "output_type": "stream",
     "text": [
      "  Classes         C     solver\n",
      "0       2  0.384211      lbfgs\n",
      "1       3  0.289474  newton-cg\n",
      "2       4  0.810526  liblinear\n"
     ]
    }
   ],
   "source": [
    "display(HTML('<h3>Logistic Regression\\'s results of tuning</h3>'))\n",
    "\n",
    "display(HTML('<h4>White Wine</h4>'))\n",
    "parameters_white = [{'Classes': '2', 'C': par_w2['C'], 'solver': par_w2['solver']},\n",
    "         {'Classes': '3',  'C': par_w3['C'], 'solver': par_w3['solver']},\n",
    "         {'Classes': '4', 'C': par_w4['C'], 'solver':par_w4['solver']}]\n",
    "df_white = pd.DataFrame(parameters_white)\n",
    "df_white = df_white[['Classes', 'C', 'solver']]\n",
    "print(df_white)\n",
    "\n",
    "display(HTML('<h4>Red Wine</h4>'))\n",
    "parameters_red = [{'Classes': '2', 'C': par_r2['C'], 'solver': par_r2['solver']},\n",
    "         {'Classes': '3',  'C': par_r3['C'], 'solver': par_r3['solver']},\n",
    "         {'Classes': '4', 'C': par_r4['C'], 'solver':par_r4['solver']}]\n",
    "df_red = pd.DataFrame(parameters_red)\n",
    "df_red = df_red[['Classes', 'C', 'solver']]\n",
    "print(df_red)\n"
   ]
  },
  {
   "cell_type": "code",
   "execution_count": 96,
   "metadata": {
    "collapsed": false
   },
   "outputs": [],
   "source": [
    "def produce_report(clf_name, clf, instances, labels):\n",
    "    x_train, x_test, y_train, y_test = train_test_split(instances, labels)\n",
    "    clf = clf\n",
    "    preds = clf.fit(x_train, y_train).predict(x_test)\n",
    "    accuracy = (accuracy_score(y_test, preds))\n",
    "    display(HTML('<strong>Report</strong>:\\n'))\n",
    "    print(classification_report(y_test, preds), \"\\n\")\n",
    "    display(HTML('<strong>Confusion Matrix</strong>:\\n'))\n",
    "    print(confusion_matrix(y_test, clf.fit(x_test, y_test).predict(x_test)))\n",
    "    return accuracy, y_test, preds\n"
   ]
  },
  {
   "cell_type": "code",
   "execution_count": 97,
   "metadata": {
    "collapsed": false
   },
   "outputs": [
    {
     "data": {
      "text/html": [
       "<h3>For White Wine: </h3>"
      ],
      "text/plain": [
       "<IPython.core.display.HTML object>"
      ]
     },
     "metadata": {},
     "output_type": "display_data"
    },
    {
     "data": {
      "text/html": [
       "<strong>Report</strong>:\n"
      ],
      "text/plain": [
       "<IPython.core.display.HTML object>"
      ]
     },
     "metadata": {},
     "output_type": "display_data"
    },
    {
     "name": "stdout",
     "output_type": "stream",
     "text": [
      "             precision    recall  f1-score   support\n",
      "\n",
      "          0       0.64      0.46      0.54       400\n",
      "          1       0.77      0.88      0.82       825\n",
      "\n",
      "avg / total       0.73      0.74      0.73      1225\n",
      " \n",
      "\n"
     ]
    },
    {
     "data": {
      "text/html": [
       "<strong>Confusion Matrix</strong>:\n"
      ],
      "text/plain": [
       "<IPython.core.display.HTML object>"
      ]
     },
     "metadata": {},
     "output_type": "display_data"
    },
    {
     "name": "stdout",
     "output_type": "stream",
     "text": [
      "[[168 232]\n",
      " [ 85 740]]\n"
     ]
    },
    {
     "data": {
      "text/html": [
       "<strong>Report</strong>:\n"
      ],
      "text/plain": [
       "<IPython.core.display.HTML object>"
      ]
     },
     "metadata": {},
     "output_type": "display_data"
    },
    {
     "name": "stdout",
     "output_type": "stream",
     "text": [
      "             precision    recall  f1-score   support\n",
      "\n",
      "        bad       0.00      0.00      0.00        41\n",
      "       good       0.59      0.31      0.41       254\n",
      "     medium       0.80      0.94      0.87       930\n",
      "\n",
      "avg / total       0.73      0.78      0.74      1225\n",
      " \n",
      "\n"
     ]
    },
    {
     "name": "stderr",
     "output_type": "stream",
     "text": [
      "/Users/Vera/anaconda/lib/python3.6/site-packages/sklearn/metrics/classification.py:1113: UndefinedMetricWarning: Precision and F-score are ill-defined and being set to 0.0 in labels with no predicted samples.\n",
      "  'precision', 'predicted', average, warn_for)\n"
     ]
    },
    {
     "data": {
      "text/html": [
       "<strong>Confusion Matrix</strong>:\n"
      ],
      "text/plain": [
       "<IPython.core.display.HTML object>"
      ]
     },
     "metadata": {},
     "output_type": "display_data"
    },
    {
     "name": "stdout",
     "output_type": "stream",
     "text": [
      "[[  0   3  38]\n",
      " [  0  68 186]\n",
      " [  0  42 888]]\n"
     ]
    },
    {
     "data": {
      "text/html": [
       "<strong>Report</strong>:\n"
      ],
      "text/plain": [
       "<IPython.core.display.HTML object>"
      ]
     },
     "metadata": {},
     "output_type": "display_data"
    },
    {
     "name": "stdout",
     "output_type": "stream",
     "text": [
      "             precision    recall  f1-score   support\n",
      "\n",
      "        bad       0.00      0.00      0.00        45\n",
      "       good       0.63      0.25      0.36       302\n",
      "medium high       0.53      0.73      0.62       545\n",
      " medium low       0.55      0.58      0.56       333\n",
      "\n",
      "avg / total       0.54      0.55      0.52      1225\n",
      " \n",
      "\n"
     ]
    },
    {
     "data": {
      "text/html": [
       "<strong>Confusion Matrix</strong>:\n"
      ],
      "text/plain": [
       "<IPython.core.display.HTML object>"
      ]
     },
     "metadata": {},
     "output_type": "display_data"
    },
    {
     "name": "stdout",
     "output_type": "stream",
     "text": [
      "[[  0   3  15  27]\n",
      " [  0 106 189   7]\n",
      " [  0  73 388  84]\n",
      " [  0   5 163 165]]\n"
     ]
    }
   ],
   "source": [
    "display(HTML('<h3>For White Wine: </h3>'))\n",
    "accuracy_white_2, y_test_white_2, y_score_white_2 = produce_report('LR for white wine (2 classes)', \n",
    "                                       LogisticRegression(C = par_w2['C'], solver = par_w2['solver']), \n",
    "               white_instances, white_two_classes)\n",
    "accuracy_white_3, y_test_white_3, y_score_white_3 = produce_report('LR for white wine (3 classes)', LogisticRegression(C = par_w3['C'], solver = par_w3['solver']), \n",
    "               white_instances, white_three_classes)\n",
    "accuracy_white_4, y_test_white_4, y_score_white_4 = produce_report('LR for white wine (4 classes)', LogisticRegression(C = par_w4['C'], solver = par_w4['solver']), \n",
    "               white_instances, white_four_classes)\n",
    "\n"
   ]
  },
  {
   "cell_type": "code",
   "execution_count": 98,
   "metadata": {
    "collapsed": false
   },
   "outputs": [
    {
     "data": {
      "text/html": [
       "<h3>For Red Wine: </h3>"
      ],
      "text/plain": [
       "<IPython.core.display.HTML object>"
      ]
     },
     "metadata": {},
     "output_type": "display_data"
    },
    {
     "data": {
      "text/html": [
       "<strong>Report</strong>:\n"
      ],
      "text/plain": [
       "<IPython.core.display.HTML object>"
      ]
     },
     "metadata": {},
     "output_type": "display_data"
    },
    {
     "name": "stdout",
     "output_type": "stream",
     "text": [
      "             precision    recall  f1-score   support\n",
      "\n",
      "          0       0.74      0.70      0.72       191\n",
      "          1       0.74      0.78      0.76       209\n",
      "\n",
      "avg / total       0.74      0.74      0.74       400\n",
      " \n",
      "\n"
     ]
    },
    {
     "data": {
      "text/html": [
       "<strong>Confusion Matrix</strong>:\n"
      ],
      "text/plain": [
       "<IPython.core.display.HTML object>"
      ]
     },
     "metadata": {},
     "output_type": "display_data"
    },
    {
     "name": "stdout",
     "output_type": "stream",
     "text": [
      "[[140  51]\n",
      " [ 57 152]]\n"
     ]
    },
    {
     "data": {
      "text/html": [
       "<strong>Report</strong>:\n"
      ],
      "text/plain": [
       "<IPython.core.display.HTML object>"
      ]
     },
     "metadata": {},
     "output_type": "display_data"
    },
    {
     "name": "stdout",
     "output_type": "stream",
     "text": [
      "             precision    recall  f1-score   support\n",
      "\n",
      "        bad       0.00      0.00      0.00        16\n",
      "       good       0.58      0.26      0.36        53\n",
      "     medium       0.85      0.97      0.91       331\n",
      "\n",
      "avg / total       0.78      0.84      0.80       400\n",
      " \n",
      "\n"
     ]
    },
    {
     "name": "stderr",
     "output_type": "stream",
     "text": [
      "/Users/Vera/anaconda/lib/python3.6/site-packages/sklearn/metrics/classification.py:1113: UndefinedMetricWarning: Precision and F-score are ill-defined and being set to 0.0 in labels with no predicted samples.\n",
      "  'precision', 'predicted', average, warn_for)\n"
     ]
    },
    {
     "data": {
      "text/html": [
       "<strong>Confusion Matrix</strong>:\n"
      ],
      "text/plain": [
       "<IPython.core.display.HTML object>"
      ]
     },
     "metadata": {},
     "output_type": "display_data"
    },
    {
     "name": "stdout",
     "output_type": "stream",
     "text": [
      "[[  0   0  16]\n",
      " [  0  10  43]\n",
      " [  0   3 328]]\n"
     ]
    },
    {
     "data": {
      "text/html": [
       "<strong>Report</strong>:\n"
      ],
      "text/plain": [
       "<IPython.core.display.HTML object>"
      ]
     },
     "metadata": {},
     "output_type": "display_data"
    },
    {
     "name": "stdout",
     "output_type": "stream",
     "text": [
      "             precision    recall  f1-score   support\n",
      "\n",
      "        bad       0.00      0.00      0.00        18\n",
      "       good       0.47      0.12      0.19        60\n",
      "medium high       0.52      0.61      0.56       166\n",
      " medium low       0.62      0.76      0.68       156\n",
      "\n",
      "avg / total       0.53      0.56      0.53       400\n",
      " \n",
      "\n"
     ]
    },
    {
     "data": {
      "text/html": [
       "<strong>Confusion Matrix</strong>:\n"
      ],
      "text/plain": [
       "<IPython.core.display.HTML object>"
      ]
     },
     "metadata": {},
     "output_type": "display_data"
    },
    {
     "name": "stdout",
     "output_type": "stream",
     "text": [
      "[[  0   0   7  11]\n",
      " [  0  19  39   2]\n",
      " [  0   8 106  52]\n",
      " [  0   1  55 100]]\n"
     ]
    }
   ],
   "source": [
    "display(HTML('<h3>For Red Wine: </h3>'))\n",
    "accuracy_red_2, y_test_red_2, y_score_red_2 = produce_report('LR for red wine (2 classes)', \n",
    "                                        LogisticRegression(C = par_r2['C'], solver = par_r2['solver']), \n",
    "                                                             red_instances, red_two_classes)\n",
    "accuracy_red_3, y_test_red_3, y_score_red_3 = produce_report('LR for red wine (3 classes)', \n",
    "                                        LogisticRegression(C = par_r3['C'], solver = par_r3['solver']), \n",
    "                                                             red_instances, red_three_classes)\n",
    "accuracy_red_4, y_test_red_4, y_score_red_4 = produce_report('LR for red wine (4 classes)', \n",
    "                                        LogisticRegression(C = par_r4['C'], solver = par_r4['solver']), \n",
    "                                                             red_instances, red_four_classes)"
   ]
  },
  {
   "cell_type": "code",
   "execution_count": 99,
   "metadata": {
    "collapsed": false
   },
   "outputs": [
    {
     "data": {
      "text/html": [
       "<h3>Logistic Regression's Accuracy Scores </h3>"
      ],
      "text/plain": [
       "<IPython.core.display.HTML object>"
      ]
     },
     "metadata": {},
     "output_type": "display_data"
    },
    {
     "data": {
      "text/html": [
       "<h4>White Wine Accuracy</h4>"
      ],
      "text/plain": [
       "<IPython.core.display.HTML object>"
      ]
     },
     "metadata": {},
     "output_type": "display_data"
    },
    {
     "name": "stdout",
     "output_type": "stream",
     "text": [
      "  Classes  Accuracy\n",
      "0       2  0.740408\n",
      "1       3  0.781224\n",
      "2       4  0.545306\n"
     ]
    },
    {
     "data": {
      "text/html": [
       "<h4>Red Wine Accuracy</h4>"
      ],
      "text/plain": [
       "<IPython.core.display.HTML object>"
      ]
     },
     "metadata": {},
     "output_type": "display_data"
    },
    {
     "name": "stdout",
     "output_type": "stream",
     "text": [
      "  Classes  Accuracy\n",
      "0       2    0.7425\n",
      "1       3    0.8375\n",
      "2       4    0.5650\n"
     ]
    }
   ],
   "source": [
    "display(HTML('<h3>Logistic Regression\\'s Accuracy Scores </h3>'))\n",
    "\n",
    "display(HTML('<h4>White Wine Accuracy</h4>'))\n",
    "accuracy_w = [{'Classes': '2', 'Accuracy': accuracy_white_2},\n",
    "         {'Classes': '3', 'Accuracy': accuracy_white_3},\n",
    "         {'Classes': '4','Accuracy': accuracy_white_4}]\n",
    "df_w_acc = pd.DataFrame(accuracy_w)\n",
    "df_w_acc = df_w_acc[['Classes', 'Accuracy']]\n",
    "print(df_w_acc)\n",
    "\n",
    "display(HTML('<h4>Red Wine Accuracy</h4>'))\n",
    "accuracy_red = [{'Classes': '2', 'Accuracy': accuracy_red_2},\n",
    "         {'Classes': '3', 'Accuracy': accuracy_red_3},\n",
    "         {'Classes': '4','Accuracy': accuracy_red_4}]\n",
    "df_red_acc = pd.DataFrame(accuracy_red)\n",
    "df_red_acc = df_red_acc[['Classes', 'Accuracy']]\n",
    "print(df_red_acc)"
   ]
  },
  {
   "cell_type": "code",
   "execution_count": 100,
   "metadata": {
    "collapsed": false
   },
   "outputs": [
    {
     "data": {
      "image/png": "[encoded data removed]",
      "text/plain": [
       "<matplotlib.figure.Figure at 0x11e023b38>"
      ]
     },
     "metadata": {},
     "output_type": "display_data"
    },
    {
     "data": {
      "image/png": "[encoded data removed]",
      "text/plain": [
       "<matplotlib.figure.Figure at 0x11dd325c0>"
      ]
     },
     "metadata": {},
     "output_type": "display_data"
    }
   ],
   "source": [
    "# Compute ROC curve and ROC area for each class\n",
    "def draw_curve(title, y_test, y_preds):    \n",
    "    fpr, tpr, thresholds = roc_curve(y_test, y_preds)\n",
    "    roc_auc = auc(fpr, tpr)\n",
    "    plt.figure()\n",
    "    plt.plot(fpr, tpr, color='darkorange',\n",
    "             label='AUC = %0.2f' % roc_auc)\n",
    "    plt.plot([0, 1], [0, 1], color='navy', lw=2, linestyle='--')\n",
    "    plt.xlim([0.0, 1.0])\n",
    "    plt.ylim([0.0, 1.05])\n",
    "    plt.xlabel('False Positive Rate')\n",
    "    plt.ylabel('True Positive Rate')\n",
    "    plt.title(title)\n",
    "    plt.legend(loc=\"lower right\")\n",
    "    plt.show()\n",
    "    \n",
    "draw_curve('ROC for White wine', y_test_white_2, y_score_white_2)\n",
    "draw_curve('ROC for Red wine', y_test_red_2, y_score_red_2) "
   ]
  },
  {
   "cell_type": "code",
   "execution_count": 4,
   "metadata": {
    "collapsed": false
   },
   "outputs": [],
   "source": []
  }
 ],
 "metadata": {
  "kernelspec": {
   "display_name": "Python 3",
   "language": "python",
   "name": "python3"
  },
  "language_info": {
   "codemirror_mode": {
    "name": "ipython",
    "version": 3
   },
   "file_extension": ".py",
   "mimetype": "text/x-python",
   "name": "python",
   "nbconvert_exporter": "python",
   "pygments_lexer": "ipython3",
   "version": "3.6.0"
  }
 },
 "nbformat": 4,
 "nbformat_minor": 2
}
