{
 "cells": [
  {
   "cell_type": "code",
   "execution_count": 1,
   "metadata": {
    "collapsed": false
   },
   "outputs": [],
   "source": [
    "%matplotlib inline\n",
    "import numpy as np\n",
    "import matplotlib.pyplot as plt\n",
    "import csv\n",
    "from IPython.core.display import display, HTML"
   ]
  },
  {
   "cell_type": "code",
   "execution_count": 2,
   "metadata": {
    "collapsed": false
   },
   "outputs": [],
   "source": [
    "def preprocess(file_name):\n",
    "    results = []\n",
    "    with open(file_name) as csvfile:\n",
    "        wine_reader = csv.reader(csvfile, dialect=\"excel\", delimiter=';')\n",
    "        for row in wine_reader:\n",
    "            results.append(row)\n",
    "    name_features = results[0]\n",
    "    #print(name_features)\n",
    "    parsed_results = []\n",
    "    for row in results[1:]:\n",
    "        new_row = []\n",
    "        for num in row:\n",
    "            new_row.append(float(num))\n",
    "        parsed_results.append(new_row)\n",
    "    parsed_results = np.array(parsed_results)\n",
    "    n_instances = parsed_results.shape[0]\n",
    "    n_features = parsed_results.shape[1] - 1\n",
    "    labels = parsed_results[:, n_features]\n",
    "    instances = parsed_results[:, : n_features]\n",
    "    return instances, labels\n",
    "white_instances, white_labels = preprocess('winequality-white.csv')\n",
    "red_instances, red_labels = preprocess('winequality-red.csv')\n",
    "white_two_classes = np.array([0 if num <6 else 1 for num in white_labels])\n",
    "red_two_classes = np.array([0 if num <6 else 1 for num in red_labels])"
   ]
  },
  {
   "cell_type": "code",
   "execution_count": 3,
   "metadata": {
    "collapsed": true
   },
   "outputs": [],
   "source": [
    "def three_classes(wine_labels):\n",
    "    transformed = []\n",
    "    for score in wine_labels:\n",
    "        if score <= 4:\n",
    "            transformed.append(\"bad\")\n",
    "        elif score <= 6:\n",
    "            transformed.append(\"medium\")\n",
    "        else:\n",
    "            transformed.append(\"good\")\n",
    "    return np.array(transformed)\n",
    "def four_classes(wine_labels):\n",
    "    transformed = []\n",
    "    for score in wine_labels:\n",
    "        if score <= 4:\n",
    "            transformed.append(\"bad\")\n",
    "        elif score == 5:\n",
    "            transformed.append(\"medium low\")\n",
    "        elif score == 6:\n",
    "            transformed.append(\"medium high\")\n",
    "        else:\n",
    "            transformed.append(\"good\")\n",
    "    return np.array(transformed)"
   ]
  },
  {
   "cell_type": "code",
   "execution_count": 4,
   "metadata": {
    "collapsed": false
   },
   "outputs": [],
   "source": [
    "white_three_classes = three_classes(white_labels)\n",
    "red_three_classes = three_classes(red_labels)\n",
    "white_four_classes = four_classes(white_labels)\n",
    "red_four_classes = four_classes(red_labels)"
   ]
  },
  {
   "cell_type": "code",
   "execution_count": 13,
   "metadata": {
    "collapsed": true
   },
   "outputs": [],
   "source": [
    "from sklearn.model_selection import train_test_split\n",
    "from sklearn import svm\n",
    "from sklearn.preprocessing import StandardScaler\n",
    "from sklearn.metrics import roc_curve, auc\n",
    "from sklearn.model_selection import cross_val_score, GridSearchCV\n",
    "from sklearn.metrics import classification_report, accuracy_score, confusion_matrix # for reporting"
   ]
  },
  {
   "cell_type": "code",
   "execution_count": 6,
   "metadata": {
    "collapsed": false
   },
   "outputs": [],
   "source": [
    "svc = svm.SVC()"
   ]
  },
  {
   "cell_type": "code",
   "execution_count": 25,
   "metadata": {
    "collapsed": true
   },
   "outputs": [],
   "source": [
    "def tune(params, clf, instances, labels):\n",
    "    x_train, x_test, y_train, y_test = train_test_split(instances, labels)\n",
    "    gs = GridSearchCV(clf, param_grid=params, cv=5)\n",
    "    gs.fit(x_train, y_train)\n",
    "    return gs.best_params_"
   ]
  },
  {
   "cell_type": "code",
   "execution_count": 29,
   "metadata": {
    "collapsed": false
   },
   "outputs": [
    {
     "data": {
      "text/html": [
       "<h3>SVM's results of tuning 1 </h3>"
      ],
      "text/plain": [
       "<IPython.core.display.HTML object>"
      ]
     },
     "metadata": {},
     "output_type": "display_data"
    },
    {
     "name": "stdout",
     "output_type": "stream",
     "text": [
      "best for white (2 classes) {'gamma': 0.1, 'C': 1}\n",
      "best for white (3 classes) {'gamma': 0.1, 'C': 1}\n",
      "best for white (4 classes) {'gamma': 0.1, 'C': 5}\n",
      "\n",
      "\n",
      "best for red (2 classes) {'gamma': 0.001, 'C': 100}\n",
      "best for red (3 classes) {'gamma': 0.1, 'C': 0.5}\n",
      "best for red (4 classes) {'gamma': 0.0015, 'C': 100}\n"
     ]
    }
   ],
   "source": [
    "params = {'C': [0.1,0.5,1,5,10,50,60,100] ,'gamma': [0.0001,0.0015,0.002, 0.001, 0.01, 0.1]}\n",
    "display(HTML('<h3>SVM\\'s results of tuning 1 </h3>'))\n",
    "print(\"best for white (2 classes)\", tune(params, svc, white_instances, white_two_classes))\n",
    "print(\"best for white (3 classes)\", tune(params, svc, white_instances, white_three_classes))\n",
    "print(\"best for white (4 classes)\", tune(params, svc, white_instances, white_four_classes))\n",
    "print(\"\\n\")\n",
    "print(\"best for red (2 classes)\", tune(params, svc, red_instances, red_two_classes))\n",
    "print(\"best for red (3 classes)\", tune(params, svc, red_instances, red_three_classes))\n",
    "print(\"best for red (4 classes)\", tune(params, svc, red_instances, red_four_classes))"
   ]
  },
  {
   "cell_type": "code",
   "execution_count": 30,
   "metadata": {
    "collapsed": true
   },
   "outputs": [],
   "source": [
    "def produce_report(clf_name, clf, instances, labels):\n",
    "    x_train, x_test, y_train, y_test = train_test_split(instances, labels)\n",
    "    clf = clf\n",
    "    preds = clf.fit(x_train, y_train).predict(x_test)\n",
    "    display(HTML('<h4>' + clf_name + \"'s accuracy: </h4>\"))\n",
    "    print(accuracy_score(y_test, preds))\n",
    "    display(HTML('<strong>Report</strong>:\\n'))\n",
    "    print(classification_report(y_test, preds), \"\\n\")\n",
    "    return y_test, preds"
   ]
  },
  {
   "cell_type": "code",
   "execution_count": 32,
   "metadata": {
    "collapsed": false
   },
   "outputs": [
    {
     "data": {
      "text/html": [
       "<h3>For White Wine: </h3>"
      ],
      "text/plain": [
       "<IPython.core.display.HTML object>"
      ]
     },
     "metadata": {},
     "output_type": "display_data"
    },
    {
     "data": {
      "text/html": [
       "<h4>SVM for white wine (2 classes)'s accuracy: </h4>"
      ],
      "text/plain": [
       "<IPython.core.display.HTML object>"
      ]
     },
     "metadata": {},
     "output_type": "display_data"
    },
    {
     "name": "stdout",
     "output_type": "stream",
     "text": [
      "0.745306122449\n"
     ]
    },
    {
     "data": {
      "text/html": [
       "<strong>Report</strong>:\n"
      ],
      "text/plain": [
       "<IPython.core.display.HTML object>"
      ]
     },
     "metadata": {},
     "output_type": "display_data"
    },
    {
     "name": "stdout",
     "output_type": "stream",
     "text": [
      "             precision    recall  f1-score   support\n",
      "\n",
      "          0       0.70      0.42      0.53       410\n",
      "          1       0.76      0.91      0.83       815\n",
      "\n",
      "avg / total       0.74      0.75      0.73      1225\n",
      " \n",
      "\n"
     ]
    },
    {
     "data": {
      "text/html": [
       "<h4>SVM for white wine (3 classes)'s accuracy: </h4>"
      ],
      "text/plain": [
       "<IPython.core.display.HTML object>"
      ]
     },
     "metadata": {},
     "output_type": "display_data"
    },
    {
     "name": "stdout",
     "output_type": "stream",
     "text": [
      "0.788571428571\n"
     ]
    },
    {
     "data": {
      "text/html": [
       "<strong>Report</strong>:\n"
      ],
      "text/plain": [
       "<IPython.core.display.HTML object>"
      ]
     },
     "metadata": {},
     "output_type": "display_data"
    },
    {
     "name": "stdout",
     "output_type": "stream",
     "text": [
      "             precision    recall  f1-score   support\n",
      "\n",
      "        bad       1.00      0.02      0.04        44\n",
      "       good       0.65      0.38      0.48       263\n",
      "     medium       0.81      0.94      0.87       918\n",
      "\n",
      "avg / total       0.78      0.79      0.76      1225\n",
      " \n",
      "\n"
     ]
    },
    {
     "data": {
      "text/html": [
       "<h4>SVM for white wine (4 classes)'s accuracy: </h4>"
      ],
      "text/plain": [
       "<IPython.core.display.HTML object>"
      ]
     },
     "metadata": {},
     "output_type": "display_data"
    },
    {
     "name": "stdout",
     "output_type": "stream",
     "text": [
      "0.619591836735\n"
     ]
    },
    {
     "data": {
      "text/html": [
       "<strong>Report</strong>:\n"
      ],
      "text/plain": [
       "<IPython.core.display.HTML object>"
      ]
     },
     "metadata": {},
     "output_type": "display_data"
    },
    {
     "name": "stdout",
     "output_type": "stream",
     "text": [
      "             precision    recall  f1-score   support\n",
      "\n",
      "        bad       0.40      0.13      0.20        45\n",
      "       good       0.65      0.53      0.59       291\n",
      "medium high       0.62      0.71      0.66       540\n",
      " medium low       0.60      0.62      0.61       349\n",
      "\n",
      "avg / total       0.62      0.62      0.61      1225\n",
      " \n",
      "\n"
     ]
    },
    {
     "data": {
      "text/html": [
       "<h3>For Red Wine: </h3>"
      ],
      "text/plain": [
       "<IPython.core.display.HTML object>"
      ]
     },
     "metadata": {},
     "output_type": "display_data"
    },
    {
     "data": {
      "text/html": [
       "<h4>SVM for red wine (2 classes)'s accuracy: </h4>"
      ],
      "text/plain": [
       "<IPython.core.display.HTML object>"
      ]
     },
     "metadata": {},
     "output_type": "display_data"
    },
    {
     "name": "stdout",
     "output_type": "stream",
     "text": [
      "0.77\n"
     ]
    },
    {
     "data": {
      "text/html": [
       "<strong>Report</strong>:\n"
      ],
      "text/plain": [
       "<IPython.core.display.HTML object>"
      ]
     },
     "metadata": {},
     "output_type": "display_data"
    },
    {
     "name": "stdout",
     "output_type": "stream",
     "text": [
      "             precision    recall  f1-score   support\n",
      "\n",
      "          0       0.73      0.82      0.77       193\n",
      "          1       0.81      0.72      0.77       207\n",
      "\n",
      "avg / total       0.77      0.77      0.77       400\n",
      " \n",
      "\n"
     ]
    },
    {
     "data": {
      "text/html": [
       "<h4>SVM for red wine (3 classes)'s accuracy: </h4>"
      ],
      "text/plain": [
       "<IPython.core.display.HTML object>"
      ]
     },
     "metadata": {},
     "output_type": "display_data"
    },
    {
     "name": "stdout",
     "output_type": "stream",
     "text": [
      "0.8475\n"
     ]
    },
    {
     "data": {
      "text/html": [
       "<strong>Report</strong>:\n"
      ],
      "text/plain": [
       "<IPython.core.display.HTML object>"
      ]
     },
     "metadata": {},
     "output_type": "display_data"
    },
    {
     "name": "stdout",
     "output_type": "stream",
     "text": [
      "             precision    recall  f1-score   support\n",
      "\n",
      "        bad       0.00      0.00      0.00        11\n",
      "       good       1.00      0.04      0.07        52\n",
      "     medium       0.85      1.00      0.92       337\n",
      "\n",
      "avg / total       0.84      0.85      0.78       400\n",
      " \n",
      "\n"
     ]
    },
    {
     "name": "stderr",
     "output_type": "stream",
     "text": [
      "D:\\Anaconda3\\lib\\site-packages\\sklearn\\metrics\\classification.py:1135: UndefinedMetricWarning: Precision and F-score are ill-defined and being set to 0.0 in labels with no predicted samples.\n",
      "  'precision', 'predicted', average, warn_for)\n"
     ]
    },
    {
     "data": {
      "text/html": [
       "<h4>SVM for red wine (4 classes)'s accuracy: </h4>"
      ],
      "text/plain": [
       "<IPython.core.display.HTML object>"
      ]
     },
     "metadata": {},
     "output_type": "display_data"
    },
    {
     "name": "stdout",
     "output_type": "stream",
     "text": [
      "0.58\n"
     ]
    },
    {
     "data": {
      "text/html": [
       "<strong>Report</strong>:\n"
      ],
      "text/plain": [
       "<IPython.core.display.HTML object>"
      ]
     },
     "metadata": {},
     "output_type": "display_data"
    },
    {
     "name": "stdout",
     "output_type": "stream",
     "text": [
      "             precision    recall  f1-score   support\n",
      "\n",
      "        bad       0.00      0.00      0.00        13\n",
      "       good       0.47      0.29      0.36        55\n",
      "medium high       0.53      0.57      0.55       162\n",
      " medium low       0.64      0.73      0.68       170\n",
      "\n",
      "avg / total       0.55      0.58      0.56       400\n",
      " \n",
      "\n"
     ]
    },
    {
     "data": {
      "text/plain": [
       "(array(['medium low', 'medium low', 'medium low', 'medium high',\n",
       "        'medium high', 'medium low', 'medium low', 'medium low',\n",
       "        'medium low', 'medium low', 'medium high', 'medium high',\n",
       "        'medium high', 'medium high', 'medium low', 'bad', 'medium low',\n",
       "        'good', 'medium high', 'medium high', 'medium high', 'medium high',\n",
       "        'medium high', 'medium low', 'medium high', 'medium low',\n",
       "        'medium high', 'medium low', 'good', 'medium high', 'medium high',\n",
       "        'medium low', 'medium low', 'medium low', 'medium high',\n",
       "        'medium low', 'good', 'medium low', 'medium high', 'good',\n",
       "        'medium low', 'medium high', 'medium high', 'good', 'bad',\n",
       "        'medium low', 'medium low', 'medium high', 'medium high',\n",
       "        'medium high', 'good', 'medium low', 'medium high', 'medium high',\n",
       "        'medium low', 'medium low', 'medium high', 'medium high',\n",
       "        'medium low', 'medium low', 'medium low', 'medium high',\n",
       "        'medium high', 'medium high', 'medium high', 'medium high',\n",
       "        'medium high', 'medium high', 'good', 'medium high', 'good',\n",
       "        'medium low', 'medium high', 'good', 'medium high', 'medium low',\n",
       "        'medium low', 'good', 'bad', 'medium high', 'good', 'medium high',\n",
       "        'medium low', 'bad', 'medium high', 'medium high', 'medium low',\n",
       "        'medium high', 'medium low', 'medium low', 'medium low',\n",
       "        'medium low', 'medium high', 'medium high', 'medium high',\n",
       "        'medium low', 'medium low', 'good', 'good', 'medium low',\n",
       "        'medium high', 'medium low', 'bad', 'medium low', 'medium low',\n",
       "        'bad', 'medium low', 'medium high', 'good', 'good', 'medium high',\n",
       "        'medium low', 'medium low', 'medium high', 'medium low',\n",
       "        'medium low', 'medium high', 'good', 'medium low', 'medium low',\n",
       "        'medium high', 'good', 'medium high', 'good', 'bad', 'medium high',\n",
       "        'medium low', 'medium low', 'good', 'medium high', 'medium high',\n",
       "        'medium high', 'medium low', 'medium low', 'medium high',\n",
       "        'medium high', 'medium low', 'bad', 'medium low', 'medium low',\n",
       "        'good', 'medium high', 'medium high', 'bad', 'medium low',\n",
       "        'medium low', 'medium high', 'medium high', 'medium high',\n",
       "        'medium low', 'medium high', 'medium low', 'medium low',\n",
       "        'medium high', 'medium low', 'medium low', 'medium low',\n",
       "        'medium high', 'good', 'medium high', 'good', 'medium low',\n",
       "        'medium high', 'bad', 'medium low', 'medium low', 'medium low',\n",
       "        'medium high', 'medium high', 'good', 'medium low', 'medium low',\n",
       "        'medium low', 'medium high', 'medium low', 'medium high',\n",
       "        'medium low', 'good', 'medium high', 'medium high', 'medium high',\n",
       "        'medium low', 'good', 'medium low', 'medium low', 'medium high',\n",
       "        'medium high', 'good', 'medium high', 'medium low', 'medium low',\n",
       "        'medium high', 'good', 'medium high', 'medium high', 'medium low',\n",
       "        'good', 'medium high', 'medium high', 'good', 'medium high',\n",
       "        'medium low', 'medium low', 'medium low', 'medium low',\n",
       "        'medium high', 'good', 'medium low', 'medium high', 'medium low',\n",
       "        'medium high', 'medium low', 'good', 'medium high', 'medium low',\n",
       "        'medium low', 'medium high', 'medium low', 'medium low',\n",
       "        'medium low', 'medium low', 'medium low', 'medium low',\n",
       "        'medium high', 'medium high', 'medium high', 'medium low',\n",
       "        'medium high', 'medium low', 'medium low', 'good', 'medium low',\n",
       "        'medium high', 'medium high', 'medium high', 'medium high',\n",
       "        'medium high', 'medium low', 'medium low', 'medium high',\n",
       "        'medium high', 'medium low', 'medium high', 'good', 'bad',\n",
       "        'medium low', 'medium high', 'medium low', 'medium high',\n",
       "        'medium low', 'medium high', 'medium high', 'good', 'medium high',\n",
       "        'good', 'medium low', 'medium low', 'medium low', 'medium high',\n",
       "        'medium low', 'medium high', 'medium high', 'medium low',\n",
       "        'medium high', 'medium low', 'medium high', 'medium high',\n",
       "        'medium low', 'medium high', 'medium high', 'medium low',\n",
       "        'medium high', 'medium high', 'good', 'medium low', 'medium low',\n",
       "        'good', 'good', 'medium high', 'good', 'medium low', 'good',\n",
       "        'medium low', 'medium high', 'medium low', 'medium low',\n",
       "        'medium low', 'good', 'medium low', 'medium high', 'medium high',\n",
       "        'medium high', 'medium low', 'medium high', 'medium low',\n",
       "        'medium low', 'medium low', 'medium high', 'medium high',\n",
       "        'medium low', 'medium low', 'good', 'good', 'medium low',\n",
       "        'medium low', 'medium high', 'medium high', 'good', 'medium low',\n",
       "        'medium high', 'medium low', 'medium low', 'medium high',\n",
       "        'medium low', 'medium low', 'medium low', 'medium low',\n",
       "        'medium high', 'good', 'medium high', 'medium low', 'good', 'bad',\n",
       "        'medium low', 'medium low', 'medium low', 'medium low',\n",
       "        'medium high', 'medium high', 'medium high', 'medium high',\n",
       "        'medium high', 'medium high', 'medium low', 'medium low',\n",
       "        'medium low', 'good', 'medium high', 'medium low', 'medium high',\n",
       "        'medium high', 'medium low', 'medium high', 'medium high',\n",
       "        'medium high', 'medium low', 'medium high', 'medium low',\n",
       "        'medium low', 'medium low', 'medium high', 'medium high',\n",
       "        'medium low', 'medium low', 'good', 'medium high', 'medium low',\n",
       "        'good', 'medium low', 'medium high', 'medium low', 'medium high',\n",
       "        'medium high', 'good', 'medium low', 'medium low', 'medium high',\n",
       "        'medium high', 'medium high', 'medium low', 'medium high',\n",
       "        'medium high', 'good', 'good', 'medium high', 'medium high',\n",
       "        'medium high', 'medium high', 'good', 'medium high', 'medium high',\n",
       "        'medium low', 'medium high', 'medium low', 'medium low', 'good',\n",
       "        'medium high', 'medium low', 'good', 'medium low', 'bad',\n",
       "        'medium low', 'medium high', 'medium low', 'medium low',\n",
       "        'medium low', 'medium low', 'medium low', 'medium low', 'medium low'],\n",
       "       dtype='<U11'),\n",
       " array(['medium high', 'medium high', 'medium low', 'medium high',\n",
       "        'medium high', 'medium high', 'medium high', 'medium low',\n",
       "        'medium low', 'medium low', 'medium low', 'medium low',\n",
       "        'medium high', 'medium high', 'medium high', 'medium low',\n",
       "        'medium high', 'medium high', 'medium low', 'medium high',\n",
       "        'medium high', 'medium high', 'medium high', 'medium low',\n",
       "        'medium low', 'medium low', 'good', 'good', 'medium high',\n",
       "        'medium high', 'good', 'medium high', 'medium low', 'medium high',\n",
       "        'medium high', 'medium low', 'medium high', 'medium low',\n",
       "        'medium low', 'medium high', 'medium high', 'medium high',\n",
       "        'medium high', 'medium high', 'medium low', 'medium high',\n",
       "        'medium high', 'medium high', 'medium high', 'medium low',\n",
       "        'medium high', 'good', 'medium high', 'medium low', 'medium low',\n",
       "        'medium high', 'medium low', 'medium high', 'medium low',\n",
       "        'medium low', 'medium low', 'medium low', 'medium low',\n",
       "        'medium high', 'medium high', 'medium low', 'medium high',\n",
       "        'medium high', 'good', 'medium low', 'medium high', 'medium low',\n",
       "        'medium high', 'medium low', 'medium high', 'medium low',\n",
       "        'medium low', 'medium high', 'medium low', 'medium low',\n",
       "        'medium high', 'medium high', 'medium low', 'medium low',\n",
       "        'medium high', 'medium low', 'medium low', 'medium low',\n",
       "        'medium high', 'medium high', 'medium low', 'medium low',\n",
       "        'medium low', 'medium high', 'medium high', 'medium low',\n",
       "        'medium high', 'medium high', 'medium high', 'medium low',\n",
       "        'medium high', 'medium low', 'medium low', 'medium high',\n",
       "        'medium high', 'medium low', 'medium high', 'medium low',\n",
       "        'medium high', 'good', 'good', 'medium low', 'medium low', 'good',\n",
       "        'medium low', 'medium high', 'medium low', 'medium high',\n",
       "        'medium low', 'medium low', 'good', 'medium high', 'medium high',\n",
       "        'good', 'medium high', 'medium low', 'medium low', 'medium low',\n",
       "        'medium high', 'medium high', 'medium high', 'medium high',\n",
       "        'medium low', 'medium high', 'medium high', 'medium high',\n",
       "        'medium low', 'medium low', 'medium low', 'medium low', 'good',\n",
       "        'medium low', 'medium high', 'medium low', 'medium low',\n",
       "        'medium low', 'medium high', 'medium low', 'medium low',\n",
       "        'medium low', 'good', 'medium low', 'medium low', 'medium low',\n",
       "        'medium low', 'medium low', 'medium low', 'medium low', 'good',\n",
       "        'medium high', 'medium high', 'medium low', 'good', 'medium low',\n",
       "        'medium high', 'medium low', 'medium low', 'good', 'medium high',\n",
       "        'medium high', 'medium low', 'medium high', 'medium low',\n",
       "        'medium low', 'medium low', 'medium high', 'medium low', 'good',\n",
       "        'medium low', 'medium low', 'medium high', 'medium low',\n",
       "        'medium high', 'medium high', 'medium low', 'medium high',\n",
       "        'medium high', 'good', 'medium high', 'medium low', 'medium low',\n",
       "        'medium high', 'medium high', 'medium high', 'medium high',\n",
       "        'medium high', 'medium high', 'medium high', 'good', 'medium high',\n",
       "        'medium high', 'medium high', 'medium low', 'medium low',\n",
       "        'medium low', 'medium high', 'good', 'medium high', 'medium high',\n",
       "        'medium high', 'medium low', 'medium low', 'good', 'medium high',\n",
       "        'medium low', 'medium low', 'medium low', 'medium low',\n",
       "        'medium low', 'medium high', 'medium low', 'medium low',\n",
       "        'medium low', 'medium high', 'medium high', 'good', 'medium low',\n",
       "        'medium high', 'medium low', 'medium low', 'good', 'medium low',\n",
       "        'medium high', 'medium low', 'medium high', 'medium high',\n",
       "        'medium high', 'medium low', 'medium low', 'good', 'good',\n",
       "        'medium low', 'medium high', 'good', 'medium low', 'medium low',\n",
       "        'medium low', 'medium low', 'medium low', 'medium low',\n",
       "        'medium low', 'medium low', 'good', 'medium high', 'medium high',\n",
       "        'medium low', 'medium high', 'medium high', 'medium low',\n",
       "        'medium low', 'medium high', 'medium low', 'medium low',\n",
       "        'medium high', 'medium low', 'medium high', 'medium high',\n",
       "        'medium low', 'medium high', 'medium high', 'medium high',\n",
       "        'medium high', 'medium high', 'medium high', 'medium low',\n",
       "        'medium low', 'good', 'good', 'medium high', 'medium high',\n",
       "        'medium high', 'medium high', 'medium low', 'medium low',\n",
       "        'medium low', 'medium low', 'medium low', 'good', 'medium low',\n",
       "        'medium high', 'medium high', 'medium high', 'medium high',\n",
       "        'medium low', 'medium high', 'medium low', 'medium low',\n",
       "        'medium low', 'medium high', 'medium low', 'medium low',\n",
       "        'medium high', 'medium high', 'medium low', 'medium low',\n",
       "        'medium low', 'medium high', 'medium high', 'medium low',\n",
       "        'medium low', 'medium low', 'medium low', 'medium high',\n",
       "        'medium low', 'medium low', 'medium low', 'medium low',\n",
       "        'medium low', 'medium low', 'medium low', 'medium low',\n",
       "        'medium high', 'medium high', 'medium low', 'medium low',\n",
       "        'medium low', 'medium low', 'medium low', 'medium high',\n",
       "        'medium high', 'medium high', 'medium high', 'medium low', 'good',\n",
       "        'medium low', 'medium low', 'medium high', 'medium high',\n",
       "        'medium high', 'medium high', 'good', 'medium high', 'medium low',\n",
       "        'medium high', 'medium low', 'medium low', 'medium low',\n",
       "        'medium low', 'medium low', 'medium high', 'medium high', 'good',\n",
       "        'medium low', 'good', 'medium high', 'medium low', 'medium high',\n",
       "        'good', 'medium low', 'medium high', 'medium low', 'medium low',\n",
       "        'medium high', 'medium low', 'medium low', 'medium low',\n",
       "        'medium low', 'medium high', 'medium low', 'medium high',\n",
       "        'medium high', 'medium low', 'medium high', 'medium high',\n",
       "        'medium high', 'medium low', 'medium high', 'medium high',\n",
       "        'medium high', 'medium low', 'medium low', 'medium low',\n",
       "        'medium high', 'medium high', 'medium high', 'medium high',\n",
       "        'medium high', 'medium low', 'medium high', 'medium low',\n",
       "        'medium low', 'medium low', 'medium high', 'medium low',\n",
       "        'medium low', 'medium low', 'medium low', 'medium high',\n",
       "        'medium low', 'medium low'],\n",
       "       dtype='<U11'))"
      ]
     },
     "execution_count": 32,
     "metadata": {},
     "output_type": "execute_result"
    }
   ],
   "source": [
    "display(HTML('<h3>For White Wine: </h3>'))\n",
    "y_test_white_svm, y_score_white_svm = produce_report('SVM for white wine (2 classes)', \n",
    "                                       svm.SVC(gamma = 0.1, C = 1), white_instances, white_two_classes)\n",
    "produce_report('SVM for white wine (3 classes)', svm.SVC(gamma = 0.1, C = 1), white_instances, white_three_classes)\n",
    "produce_report('SVM for white wine (4 classes)', svm.SVC(gamma = 0.1, C = 5), white_instances, white_four_classes)\n",
    "display(HTML('<h3>For Red Wine: </h3>'))\n",
    "y_test_red_svm, y_score_red_svm = produce_report('SVM for red wine (2 classes)', \n",
    "                                       svm.SVC(gamma = 0.001, C = 100), red_instances, red_two_classes)\n",
    "produce_report('SVM for red wine (3 classes)', svm.SVC(gamma = 0.1, C=0.5), red_instances, red_three_classes)\n",
    "produce_report('SVM for red wine (4 classes)', svm.SVC(gamma= 0.0015, C =100), red_instances, red_four_classes)"
   ]
  },
  {
   "cell_type": "markdown",
   "metadata": {},
   "source": [
    "# ROC Curve"
   ]
  },
  {
   "cell_type": "code",
   "execution_count": 33,
   "metadata": {
    "collapsed": true
   },
   "outputs": [],
   "source": [
    "# Compute ROC curve and ROC area for each class\n",
    "def draw_curve(title, y_test, y_preds):    \n",
    "    fpr, tpr, thresholds = roc_curve(y_test, y_preds)\n",
    "    roc_auc = auc(fpr, tpr)\n",
    "    plt.figure()\n",
    "    plt.plot(fpr, tpr, color='darkorange',\n",
    "             label='AUC = %0.2f' % roc_auc)\n",
    "    plt.plot([0, 1], [0, 1], color='navy', lw=2, linestyle='--')\n",
    "    plt.xlim([0.0, 1.0])\n",
    "    plt.ylim([0.0, 1.05])\n",
    "    plt.xlabel('False Positive Rate')\n",
    "    plt.ylabel('True Positive Rate')\n",
    "    plt.title(title)\n",
    "    plt.legend(loc=\"lower right\")\n",
    "    plt.show()"
   ]
  },
  {
   "cell_type": "code",
   "execution_count": 34,
   "metadata": {
    "collapsed": false
   },
   "outputs": [
    {
     "data": {
      "image/png": "[encoded data removed]",
      "text/plain": [
       "<matplotlib.figure.Figure at 0x1d244b8e588>"
      ]
     },
     "metadata": {},
     "output_type": "display_data"
    },
    {
     "data": {
      "image/png": "[encoded data removed]",
      "text/plain": [
       "<matplotlib.figure.Figure at 0x1d244885048>"
      ]
     },
     "metadata": {},
     "output_type": "display_data"
    }
   ],
   "source": [
    "draw_curve('ROC for White wine', y_test_white_svm, y_score_white_svm)\n",
    "draw_curve('ROC for Red wine', y_test_red_svm, y_score_red_svm)"
   ]
  },
  {
   "cell_type": "code",
   "execution_count": 28,
   "metadata": {
    "collapsed": true
   },
   "outputs": [],
   "source": [
    "scaler.fit(X_train_red)\n",
    "scaler.fit(X_test_red)\n",
    "normalised_X_train_red = scaler.transform(X_train_red)\n",
    "normalised_X_test_red = scaler.transform(X_test_red)"
   ]
  },
  {
   "cell_type": "code",
   "execution_count": 31,
   "metadata": {
    "collapsed": false
   },
   "outputs": [
    {
     "name": "stdout",
     "output_type": "stream",
     "text": [
      "Before customisation, average accuracy of SVM_SVC_RBF :  0.769813266444  standard deviation:  0.036709873706\n",
      "Before customisation, average accuracy of SVM_SVC_LINEAR :  0.737288182832  standard deviation:  0.0304320948325\n",
      "Before customisation, average accuracy of SVM_SVC_POLY :  0.730613154961  standard deviation:  0.0446553968255\n",
      "Before customisation, average accuracy of SVM_SVC_SIGMOID :  0.674751950948  standard deviation:  0.0252765949013\n"
     ]
    }
   ],
   "source": [
    "svm_clf_rbf = svm.SVC(kernel = 'rbf')\n",
    "svm_clf_linear = svm.SVC(kernel = 'linear')\n",
    "svm_clf_poly= svm.SVC(kernel = 'poly')\n",
    "svm_clf_sigmoid = svm.SVC(kernel = 'sigmoid')\n",
    "\n",
    "\n",
    "svm_clf_rbf.fit(normalised_X_train_red,y_train_red)\n",
    "svm_clf_linear.fit(normalised_X_train_red,y_train_red)\n",
    "svm_clf_poly.fit(normalised_X_train_red,y_train_red)\n",
    "svm_clf_sigmoid.fit(normalised_X_train_red,y_train_red)\n",
    "\n",
    "def report_accuracy(moment, clf_name, clf, x_train, y_train):\n",
    "    cv_error = cross_val_score(clf, x_train, y_train, scoring=\"accuracy\", cv=4)\n",
    "    print(moment + \" customisation, average accuracy of \" + clf_name + \" : \", cv_error.mean(), \" standard deviation: \", np.std(cv_error))\n",
    "\n",
    "report_accuracy(\"Before\", \"SVM_SVC_RBF\", svm_clf_rbf, normalised_X_train_red, y_train_red) \n",
    "report_accuracy(\"Before\", \"SVM_SVC_LINEAR\", svm_clf_linear, normalised_X_train_red, y_train_red) \n",
    "report_accuracy(\"Before\", \"SVM_SVC_POLY\", svm_clf_poly, normalised_X_train_red, y_train_red) \n",
    "report_accuracy(\"Before\", \"SVM_SVC_SIGMOID\", svm_clf_sigmoid, normalised_X_train_red, y_train_red) \n"
   ]
  },
  {
   "cell_type": "code",
   "execution_count": null,
   "metadata": {
    "collapsed": true
   },
   "outputs": [],
   "source": []
  }
 ],
 "metadata": {
  "anaconda-cloud": {},
  "kernelspec": {
   "display_name": "Python [default]",
   "language": "python",
   "name": "python3"
  },
  "language_info": {
   "codemirror_mode": {
    "name": "ipython",
    "version": 3
   },
   "file_extension": ".py",
   "mimetype": "text/x-python",
   "name": "python",
   "nbconvert_exporter": "python",
   "pygments_lexer": "ipython3",
   "version": "3.5.2"
  }
 },
 "nbformat": 4,
 "nbformat_minor": 1
}
